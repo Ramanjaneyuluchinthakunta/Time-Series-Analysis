{
 "cells": [
  {
   "cell_type": "code",
   "execution_count": 1,
   "metadata": {
    "colab": {
     "base_uri": "https://localhost:8080/"
    },
    "id": "BXC1tAAtv9P8",
    "outputId": "3ad10bd9-f141-403b-f34e-373668664056"
   },
   "outputs": [
    {
     "name": "stdout",
     "output_type": "stream",
     "text": [
      "Drive already mounted at /content/drive; to attempt to forcibly remount, call drive.mount(\"/content/drive\", force_remount=True).\n"
     ]
    }
   ],
   "source": [
    "from google.colab import drive\n",
    "drive.mount('/content/drive')"
   ]
  },
  {
   "cell_type": "markdown",
   "metadata": {
    "id": "DpHCGlV7JXCX"
   },
   "source": [
    "### Importing the libraries"
   ]
  },
  {
   "cell_type": "code",
   "execution_count": 2,
   "metadata": {
    "id": "yEMjmM3SwcJB"
   },
   "outputs": [],
   "source": [
    "import pandas as pd\n",
    "import numpy as np\n",
    "import matplotlib.pyplot as plt\n",
    "import seaborn as sns"
   ]
  },
  {
   "cell_type": "markdown",
   "metadata": {
    "id": "MsnafZyMJXCY"
   },
   "source": [
    "### Loading  the file using pandas "
   ]
  },
  {
   "cell_type": "code",
   "execution_count": 3,
   "metadata": {
    "id": "lrGC3eHQwfRa"
   },
   "outputs": [],
   "source": [
    "df = pd.read_csv('/content/drive/MyDrive/Colab Notebooks/Final_Hackathon_9099/final_data_.csv')"
   ]
  },
  {
   "cell_type": "markdown",
   "metadata": {
    "id": "fZpzjMEGJXCZ"
   },
   "source": [
    "### Seeing top 5 rows of data using head"
   ]
  },
  {
   "cell_type": "code",
   "execution_count": 4,
   "metadata": {
    "colab": {
     "base_uri": "https://localhost:8080/",
     "height": 461
    },
    "id": "AuK_QbdewtX9",
    "outputId": "fef13361-87a1-43d5-84a3-e672198ad65b"
   },
   "outputs": [
    {
     "data": {
      "text/html": [
       "\n",
       "  <div id=\"df-88605803-60e2-4a68-9006-214d27f00152\">\n",
       "    <div class=\"colab-df-container\">\n",
       "      <div>\n",
       "<style scoped>\n",
       "    .dataframe tbody tr th:only-of-type {\n",
       "        vertical-align: middle;\n",
       "    }\n",
       "\n",
       "    .dataframe tbody tr th {\n",
       "        vertical-align: top;\n",
       "    }\n",
       "\n",
       "    .dataframe thead th {\n",
       "        text-align: right;\n",
       "    }\n",
       "</style>\n",
       "<table border=\"1\" class=\"dataframe\">\n",
       "  <thead>\n",
       "    <tr style=\"text-align: right;\">\n",
       "      <th></th>\n",
       "      <th>Unnamed: 0</th>\n",
       "      <th>date</th>\n",
       "      <th>farm_id</th>\n",
       "      <th>ingredient_type</th>\n",
       "      <th>yield</th>\n",
       "      <th>farm_area</th>\n",
       "      <th>farming_company</th>\n",
       "      <th>deidentified_location</th>\n",
       "      <th>temp_obs</th>\n",
       "      <th>cloudiness</th>\n",
       "      <th>wind_direction</th>\n",
       "      <th>dew_temp</th>\n",
       "      <th>pressure_sea_level</th>\n",
       "      <th>precipitation</th>\n",
       "      <th>wind_speed</th>\n",
       "    </tr>\n",
       "  </thead>\n",
       "  <tbody>\n",
       "    <tr>\n",
       "      <th>0</th>\n",
       "      <td>0</td>\n",
       "      <td>2016-01-01 00:00:00</td>\n",
       "      <td>fid_100053</td>\n",
       "      <td>ing_w</td>\n",
       "      <td>37.04</td>\n",
       "      <td>2043.866000</td>\n",
       "      <td>Del Monte Foods</td>\n",
       "      <td>location 5290</td>\n",
       "      <td>10.0</td>\n",
       "      <td>8.0</td>\n",
       "      <td>350.0</td>\n",
       "      <td>2.2</td>\n",
       "      <td>1021.1</td>\n",
       "      <td>0.983047</td>\n",
       "      <td>4.1</td>\n",
       "    </tr>\n",
       "    <tr>\n",
       "      <th>1</th>\n",
       "      <td>1</td>\n",
       "      <td>2016-01-01 00:00:00</td>\n",
       "      <td>fid_100135</td>\n",
       "      <td>ing_w</td>\n",
       "      <td>15.64</td>\n",
       "      <td>1432.564260</td>\n",
       "      <td>Dole Food Company</td>\n",
       "      <td>location 5290</td>\n",
       "      <td>10.0</td>\n",
       "      <td>8.0</td>\n",
       "      <td>350.0</td>\n",
       "      <td>2.2</td>\n",
       "      <td>1021.1</td>\n",
       "      <td>0.983047</td>\n",
       "      <td>4.1</td>\n",
       "    </tr>\n",
       "    <tr>\n",
       "      <th>2</th>\n",
       "      <td>2</td>\n",
       "      <td>2016-01-01 00:00:00</td>\n",
       "      <td>fid_100303</td>\n",
       "      <td>ing_w</td>\n",
       "      <td>32.76</td>\n",
       "      <td>3716.120000</td>\n",
       "      <td>Wayne Farms</td>\n",
       "      <td>location 5290</td>\n",
       "      <td>10.0</td>\n",
       "      <td>8.0</td>\n",
       "      <td>350.0</td>\n",
       "      <td>2.2</td>\n",
       "      <td>1021.1</td>\n",
       "      <td>0.983047</td>\n",
       "      <td>4.1</td>\n",
       "    </tr>\n",
       "    <tr>\n",
       "      <th>3</th>\n",
       "      <td>3</td>\n",
       "      <td>2016-01-01 00:00:00</td>\n",
       "      <td>fid_101875</td>\n",
       "      <td>ing_w</td>\n",
       "      <td>10.60</td>\n",
       "      <td>2712.024376</td>\n",
       "      <td>Foster Farms</td>\n",
       "      <td>location 5290</td>\n",
       "      <td>10.0</td>\n",
       "      <td>8.0</td>\n",
       "      <td>350.0</td>\n",
       "      <td>2.2</td>\n",
       "      <td>1021.1</td>\n",
       "      <td>0.983047</td>\n",
       "      <td>4.1</td>\n",
       "    </tr>\n",
       "    <tr>\n",
       "      <th>4</th>\n",
       "      <td>4</td>\n",
       "      <td>2016-01-01 00:00:00</td>\n",
       "      <td>fid_102288</td>\n",
       "      <td>ing_w</td>\n",
       "      <td>32.56</td>\n",
       "      <td>13378.032000</td>\n",
       "      <td>Del Monte Foods</td>\n",
       "      <td>location 5290</td>\n",
       "      <td>10.0</td>\n",
       "      <td>8.0</td>\n",
       "      <td>350.0</td>\n",
       "      <td>2.2</td>\n",
       "      <td>1021.1</td>\n",
       "      <td>0.983047</td>\n",
       "      <td>4.1</td>\n",
       "    </tr>\n",
       "  </tbody>\n",
       "</table>\n",
       "</div>\n",
       "      <button class=\"colab-df-convert\" onclick=\"convertToInteractive('df-88605803-60e2-4a68-9006-214d27f00152')\"\n",
       "              title=\"Convert this dataframe to an interactive table.\"\n",
       "              style=\"display:none;\">\n",
       "        \n",
       "  <svg xmlns=\"http://www.w3.org/2000/svg\" height=\"24px\"viewBox=\"0 0 24 24\"\n",
       "       width=\"24px\">\n",
       "    <path d=\"M0 0h24v24H0V0z\" fill=\"none\"/>\n",
       "    <path d=\"M18.56 5.44l.94 2.06.94-2.06 2.06-.94-2.06-.94-.94-2.06-.94 2.06-2.06.94zm-11 1L8.5 8.5l.94-2.06 2.06-.94-2.06-.94L8.5 2.5l-.94 2.06-2.06.94zm10 10l.94 2.06.94-2.06 2.06-.94-2.06-.94-.94-2.06-.94 2.06-2.06.94z\"/><path d=\"M17.41 7.96l-1.37-1.37c-.4-.4-.92-.59-1.43-.59-.52 0-1.04.2-1.43.59L10.3 9.45l-7.72 7.72c-.78.78-.78 2.05 0 2.83L4 21.41c.39.39.9.59 1.41.59.51 0 1.02-.2 1.41-.59l7.78-7.78 2.81-2.81c.8-.78.8-2.07 0-2.86zM5.41 20L4 18.59l7.72-7.72 1.47 1.35L5.41 20z\"/>\n",
       "  </svg>\n",
       "      </button>\n",
       "      \n",
       "  <style>\n",
       "    .colab-df-container {\n",
       "      display:flex;\n",
       "      flex-wrap:wrap;\n",
       "      gap: 12px;\n",
       "    }\n",
       "\n",
       "    .colab-df-convert {\n",
       "      background-color: #E8F0FE;\n",
       "      border: none;\n",
       "      border-radius: 50%;\n",
       "      cursor: pointer;\n",
       "      display: none;\n",
       "      fill: #1967D2;\n",
       "      height: 32px;\n",
       "      padding: 0 0 0 0;\n",
       "      width: 32px;\n",
       "    }\n",
       "\n",
       "    .colab-df-convert:hover {\n",
       "      background-color: #E2EBFA;\n",
       "      box-shadow: 0px 1px 2px rgba(60, 64, 67, 0.3), 0px 1px 3px 1px rgba(60, 64, 67, 0.15);\n",
       "      fill: #174EA6;\n",
       "    }\n",
       "\n",
       "    [theme=dark] .colab-df-convert {\n",
       "      background-color: #3B4455;\n",
       "      fill: #D2E3FC;\n",
       "    }\n",
       "\n",
       "    [theme=dark] .colab-df-convert:hover {\n",
       "      background-color: #434B5C;\n",
       "      box-shadow: 0px 1px 3px 1px rgba(0, 0, 0, 0.15);\n",
       "      filter: drop-shadow(0px 1px 2px rgba(0, 0, 0, 0.3));\n",
       "      fill: #FFFFFF;\n",
       "    }\n",
       "  </style>\n",
       "\n",
       "      <script>\n",
       "        const buttonEl =\n",
       "          document.querySelector('#df-88605803-60e2-4a68-9006-214d27f00152 button.colab-df-convert');\n",
       "        buttonEl.style.display =\n",
       "          google.colab.kernel.accessAllowed ? 'block' : 'none';\n",
       "\n",
       "        async function convertToInteractive(key) {\n",
       "          const element = document.querySelector('#df-88605803-60e2-4a68-9006-214d27f00152');\n",
       "          const dataTable =\n",
       "            await google.colab.kernel.invokeFunction('convertToInteractive',\n",
       "                                                     [key], {});\n",
       "          if (!dataTable) return;\n",
       "\n",
       "          const docLinkHtml = 'Like what you see? Visit the ' +\n",
       "            '<a target=\"_blank\" href=https://colab.research.google.com/notebooks/data_table.ipynb>data table notebook</a>'\n",
       "            + ' to learn more about interactive tables.';\n",
       "          element.innerHTML = '';\n",
       "          dataTable['output_type'] = 'display_data';\n",
       "          await google.colab.output.renderOutput(dataTable, element);\n",
       "          const docLink = document.createElement('div');\n",
       "          docLink.innerHTML = docLinkHtml;\n",
       "          element.appendChild(docLink);\n",
       "        }\n",
       "      </script>\n",
       "    </div>\n",
       "  </div>\n",
       "  "
      ],
      "text/plain": [
       "   Unnamed: 0                 date     farm_id ingredient_type  yield  \\\n",
       "0           0  2016-01-01 00:00:00  fid_100053           ing_w  37.04   \n",
       "1           1  2016-01-01 00:00:00  fid_100135           ing_w  15.64   \n",
       "2           2  2016-01-01 00:00:00  fid_100303           ing_w  32.76   \n",
       "3           3  2016-01-01 00:00:00  fid_101875           ing_w  10.60   \n",
       "4           4  2016-01-01 00:00:00  fid_102288           ing_w  32.56   \n",
       "\n",
       "      farm_area    farming_company deidentified_location  temp_obs  \\\n",
       "0   2043.866000    Del Monte Foods         location 5290      10.0   \n",
       "1   1432.564260  Dole Food Company         location 5290      10.0   \n",
       "2   3716.120000        Wayne Farms         location 5290      10.0   \n",
       "3   2712.024376       Foster Farms         location 5290      10.0   \n",
       "4  13378.032000    Del Monte Foods         location 5290      10.0   \n",
       "\n",
       "   cloudiness  wind_direction  dew_temp  pressure_sea_level  precipitation  \\\n",
       "0         8.0           350.0       2.2              1021.1       0.983047   \n",
       "1         8.0           350.0       2.2              1021.1       0.983047   \n",
       "2         8.0           350.0       2.2              1021.1       0.983047   \n",
       "3         8.0           350.0       2.2              1021.1       0.983047   \n",
       "4         8.0           350.0       2.2              1021.1       0.983047   \n",
       "\n",
       "   wind_speed  \n",
       "0         4.1  \n",
       "1         4.1  \n",
       "2         4.1  \n",
       "3         4.1  \n",
       "4         4.1  "
      ]
     },
     "execution_count": 4,
     "metadata": {},
     "output_type": "execute_result"
    }
   ],
   "source": [
    "df.head()"
   ]
  },
  {
   "cell_type": "markdown",
   "metadata": {
    "id": "UD-UqQpbJXCZ"
   },
   "source": [
    "### Dropping the unnecessary column"
   ]
  },
  {
   "cell_type": "code",
   "execution_count": 5,
   "metadata": {
    "id": "FNuxOvmOwzGm"
   },
   "outputs": [],
   "source": [
    "df.drop(['Unnamed: 0'],axis=1,inplace=True)"
   ]
  },
  {
   "cell_type": "markdown",
   "metadata": {
    "id": "ShL1UYvkJXCZ"
   },
   "source": [
    "### Seeing the last 5 rows of data using tail"
   ]
  },
  {
   "cell_type": "code",
   "execution_count": 6,
   "metadata": {
    "colab": {
     "base_uri": "https://localhost:8080/",
     "height": 443
    },
    "id": "bi8J7YSDwzLK",
    "outputId": "6f9ac94f-c3f2-41eb-e633-32499a7f6d0e"
   },
   "outputs": [
    {
     "data": {
      "text/html": [
       "\n",
       "  <div id=\"df-b04b1d1b-716b-48dd-8271-a8eb771c4d5f\">\n",
       "    <div class=\"colab-df-container\">\n",
       "      <div>\n",
       "<style scoped>\n",
       "    .dataframe tbody tr th:only-of-type {\n",
       "        vertical-align: middle;\n",
       "    }\n",
       "\n",
       "    .dataframe tbody tr th {\n",
       "        vertical-align: top;\n",
       "    }\n",
       "\n",
       "    .dataframe thead th {\n",
       "        text-align: right;\n",
       "    }\n",
       "</style>\n",
       "<table border=\"1\" class=\"dataframe\">\n",
       "  <thead>\n",
       "    <tr style=\"text-align: right;\">\n",
       "      <th></th>\n",
       "      <th>date</th>\n",
       "      <th>farm_id</th>\n",
       "      <th>ingredient_type</th>\n",
       "      <th>yield</th>\n",
       "      <th>farm_area</th>\n",
       "      <th>farming_company</th>\n",
       "      <th>deidentified_location</th>\n",
       "      <th>temp_obs</th>\n",
       "      <th>cloudiness</th>\n",
       "      <th>wind_direction</th>\n",
       "      <th>dew_temp</th>\n",
       "      <th>pressure_sea_level</th>\n",
       "      <th>precipitation</th>\n",
       "      <th>wind_speed</th>\n",
       "    </tr>\n",
       "  </thead>\n",
       "  <tbody>\n",
       "    <tr>\n",
       "      <th>20241159</th>\n",
       "      <td>2016-12-04 10:00:00</td>\n",
       "      <td>fid_65292</td>\n",
       "      <td>ing_w</td>\n",
       "      <td>2.26</td>\n",
       "      <td>9568.451582</td>\n",
       "      <td>Other</td>\n",
       "      <td>location 5677</td>\n",
       "      <td>14.4</td>\n",
       "      <td>2.0</td>\n",
       "      <td>0.0</td>\n",
       "      <td>13.3</td>\n",
       "      <td>1018.7</td>\n",
       "      <td>0.0</td>\n",
       "      <td>0.0</td>\n",
       "    </tr>\n",
       "    <tr>\n",
       "      <th>20241160</th>\n",
       "      <td>2016-12-04 10:00:00</td>\n",
       "      <td>fid_68792</td>\n",
       "      <td>ing_w</td>\n",
       "      <td>632.70</td>\n",
       "      <td>34.002498</td>\n",
       "      <td>Sanderson Farms</td>\n",
       "      <td>location 5677</td>\n",
       "      <td>14.4</td>\n",
       "      <td>2.0</td>\n",
       "      <td>0.0</td>\n",
       "      <td>13.3</td>\n",
       "      <td>1018.7</td>\n",
       "      <td>0.0</td>\n",
       "      <td>0.0</td>\n",
       "    </tr>\n",
       "    <tr>\n",
       "      <th>20241161</th>\n",
       "      <td>2016-12-04 11:00:00</td>\n",
       "      <td>fid_64718</td>\n",
       "      <td>ing_w</td>\n",
       "      <td>0.00</td>\n",
       "      <td>371.612000</td>\n",
       "      <td>Sanderson Farms</td>\n",
       "      <td>location 5677</td>\n",
       "      <td>15.0</td>\n",
       "      <td>2.0</td>\n",
       "      <td>90.0</td>\n",
       "      <td>13.3</td>\n",
       "      <td>1018.8</td>\n",
       "      <td>0.0</td>\n",
       "      <td>2.1</td>\n",
       "    </tr>\n",
       "    <tr>\n",
       "      <th>20241162</th>\n",
       "      <td>2016-12-04 11:00:00</td>\n",
       "      <td>fid_65292</td>\n",
       "      <td>ing_w</td>\n",
       "      <td>2.32</td>\n",
       "      <td>9568.451582</td>\n",
       "      <td>Other</td>\n",
       "      <td>location 5677</td>\n",
       "      <td>15.0</td>\n",
       "      <td>2.0</td>\n",
       "      <td>90.0</td>\n",
       "      <td>13.3</td>\n",
       "      <td>1018.8</td>\n",
       "      <td>0.0</td>\n",
       "      <td>2.1</td>\n",
       "    </tr>\n",
       "    <tr>\n",
       "      <th>20241163</th>\n",
       "      <td>2016-12-04 11:00:00</td>\n",
       "      <td>fid_68792</td>\n",
       "      <td>ing_w</td>\n",
       "      <td>636.66</td>\n",
       "      <td>34.002498</td>\n",
       "      <td>Sanderson Farms</td>\n",
       "      <td>location 5677</td>\n",
       "      <td>15.0</td>\n",
       "      <td>2.0</td>\n",
       "      <td>90.0</td>\n",
       "      <td>13.3</td>\n",
       "      <td>1018.8</td>\n",
       "      <td>0.0</td>\n",
       "      <td>2.1</td>\n",
       "    </tr>\n",
       "  </tbody>\n",
       "</table>\n",
       "</div>\n",
       "      <button class=\"colab-df-convert\" onclick=\"convertToInteractive('df-b04b1d1b-716b-48dd-8271-a8eb771c4d5f')\"\n",
       "              title=\"Convert this dataframe to an interactive table.\"\n",
       "              style=\"display:none;\">\n",
       "        \n",
       "  <svg xmlns=\"http://www.w3.org/2000/svg\" height=\"24px\"viewBox=\"0 0 24 24\"\n",
       "       width=\"24px\">\n",
       "    <path d=\"M0 0h24v24H0V0z\" fill=\"none\"/>\n",
       "    <path d=\"M18.56 5.44l.94 2.06.94-2.06 2.06-.94-2.06-.94-.94-2.06-.94 2.06-2.06.94zm-11 1L8.5 8.5l.94-2.06 2.06-.94-2.06-.94L8.5 2.5l-.94 2.06-2.06.94zm10 10l.94 2.06.94-2.06 2.06-.94-2.06-.94-.94-2.06-.94 2.06-2.06.94z\"/><path d=\"M17.41 7.96l-1.37-1.37c-.4-.4-.92-.59-1.43-.59-.52 0-1.04.2-1.43.59L10.3 9.45l-7.72 7.72c-.78.78-.78 2.05 0 2.83L4 21.41c.39.39.9.59 1.41.59.51 0 1.02-.2 1.41-.59l7.78-7.78 2.81-2.81c.8-.78.8-2.07 0-2.86zM5.41 20L4 18.59l7.72-7.72 1.47 1.35L5.41 20z\"/>\n",
       "  </svg>\n",
       "      </button>\n",
       "      \n",
       "  <style>\n",
       "    .colab-df-container {\n",
       "      display:flex;\n",
       "      flex-wrap:wrap;\n",
       "      gap: 12px;\n",
       "    }\n",
       "\n",
       "    .colab-df-convert {\n",
       "      background-color: #E8F0FE;\n",
       "      border: none;\n",
       "      border-radius: 50%;\n",
       "      cursor: pointer;\n",
       "      display: none;\n",
       "      fill: #1967D2;\n",
       "      height: 32px;\n",
       "      padding: 0 0 0 0;\n",
       "      width: 32px;\n",
       "    }\n",
       "\n",
       "    .colab-df-convert:hover {\n",
       "      background-color: #E2EBFA;\n",
       "      box-shadow: 0px 1px 2px rgba(60, 64, 67, 0.3), 0px 1px 3px 1px rgba(60, 64, 67, 0.15);\n",
       "      fill: #174EA6;\n",
       "    }\n",
       "\n",
       "    [theme=dark] .colab-df-convert {\n",
       "      background-color: #3B4455;\n",
       "      fill: #D2E3FC;\n",
       "    }\n",
       "\n",
       "    [theme=dark] .colab-df-convert:hover {\n",
       "      background-color: #434B5C;\n",
       "      box-shadow: 0px 1px 3px 1px rgba(0, 0, 0, 0.15);\n",
       "      filter: drop-shadow(0px 1px 2px rgba(0, 0, 0, 0.3));\n",
       "      fill: #FFFFFF;\n",
       "    }\n",
       "  </style>\n",
       "\n",
       "      <script>\n",
       "        const buttonEl =\n",
       "          document.querySelector('#df-b04b1d1b-716b-48dd-8271-a8eb771c4d5f button.colab-df-convert');\n",
       "        buttonEl.style.display =\n",
       "          google.colab.kernel.accessAllowed ? 'block' : 'none';\n",
       "\n",
       "        async function convertToInteractive(key) {\n",
       "          const element = document.querySelector('#df-b04b1d1b-716b-48dd-8271-a8eb771c4d5f');\n",
       "          const dataTable =\n",
       "            await google.colab.kernel.invokeFunction('convertToInteractive',\n",
       "                                                     [key], {});\n",
       "          if (!dataTable) return;\n",
       "\n",
       "          const docLinkHtml = 'Like what you see? Visit the ' +\n",
       "            '<a target=\"_blank\" href=https://colab.research.google.com/notebooks/data_table.ipynb>data table notebook</a>'\n",
       "            + ' to learn more about interactive tables.';\n",
       "          element.innerHTML = '';\n",
       "          dataTable['output_type'] = 'display_data';\n",
       "          await google.colab.output.renderOutput(dataTable, element);\n",
       "          const docLink = document.createElement('div');\n",
       "          docLink.innerHTML = docLinkHtml;\n",
       "          element.appendChild(docLink);\n",
       "        }\n",
       "      </script>\n",
       "    </div>\n",
       "  </div>\n",
       "  "
      ],
      "text/plain": [
       "                         date    farm_id ingredient_type   yield    farm_area  \\\n",
       "20241159  2016-12-04 10:00:00  fid_65292           ing_w    2.26  9568.451582   \n",
       "20241160  2016-12-04 10:00:00  fid_68792           ing_w  632.70    34.002498   \n",
       "20241161  2016-12-04 11:00:00  fid_64718           ing_w    0.00   371.612000   \n",
       "20241162  2016-12-04 11:00:00  fid_65292           ing_w    2.32  9568.451582   \n",
       "20241163  2016-12-04 11:00:00  fid_68792           ing_w  636.66    34.002498   \n",
       "\n",
       "          farming_company deidentified_location  temp_obs  cloudiness  \\\n",
       "20241159            Other         location 5677      14.4         2.0   \n",
       "20241160  Sanderson Farms         location 5677      14.4         2.0   \n",
       "20241161  Sanderson Farms         location 5677      15.0         2.0   \n",
       "20241162            Other         location 5677      15.0         2.0   \n",
       "20241163  Sanderson Farms         location 5677      15.0         2.0   \n",
       "\n",
       "          wind_direction  dew_temp  pressure_sea_level  precipitation  \\\n",
       "20241159             0.0      13.3              1018.7            0.0   \n",
       "20241160             0.0      13.3              1018.7            0.0   \n",
       "20241161            90.0      13.3              1018.8            0.0   \n",
       "20241162            90.0      13.3              1018.8            0.0   \n",
       "20241163            90.0      13.3              1018.8            0.0   \n",
       "\n",
       "          wind_speed  \n",
       "20241159         0.0  \n",
       "20241160         0.0  \n",
       "20241161         2.1  \n",
       "20241162         2.1  \n",
       "20241163         2.1  "
      ]
     },
     "execution_count": 6,
     "metadata": {},
     "output_type": "execute_result"
    }
   ],
   "source": [
    "df.tail()"
   ]
  },
  {
   "cell_type": "markdown",
   "metadata": {
    "id": "j4wOCd7ZJXCa"
   },
   "source": [
    "### Checking the null values present in the data"
   ]
  },
  {
   "cell_type": "code",
   "execution_count": 7,
   "metadata": {
    "colab": {
     "base_uri": "https://localhost:8080/"
    },
    "id": "cNt9yzkKxCZJ",
    "outputId": "a6aff2f0-4d02-412e-8e67-14714c5a96b5"
   },
   "outputs": [
    {
     "data": {
      "text/plain": [
       "date                     0\n",
       "farm_id                  0\n",
       "ingredient_type          0\n",
       "yield                    0\n",
       "farm_area                0\n",
       "farming_company          0\n",
       "deidentified_location    0\n",
       "temp_obs                 0\n",
       "cloudiness               0\n",
       "wind_direction           0\n",
       "dew_temp                 0\n",
       "pressure_sea_level       0\n",
       "precipitation            0\n",
       "wind_speed               0\n",
       "dtype: int64"
      ]
     },
     "execution_count": 7,
     "metadata": {},
     "output_type": "execute_result"
    }
   ],
   "source": [
    "df.isnull().sum()"
   ]
  },
  {
   "cell_type": "markdown",
   "metadata": {
    "id": "sIvGbeguJXCa"
   },
   "source": [
    "### Checking the datatypes of the features"
   ]
  },
  {
   "cell_type": "code",
   "execution_count": 8,
   "metadata": {
    "colab": {
     "base_uri": "https://localhost:8080/"
    },
    "id": "pMk4lyrCwzN-",
    "outputId": "34858105-1302-4c8e-a954-3b2e28bec9d1"
   },
   "outputs": [
    {
     "data": {
      "text/plain": [
       "date                      object\n",
       "farm_id                   object\n",
       "ingredient_type           object\n",
       "yield                    float64\n",
       "farm_area                float64\n",
       "farming_company           object\n",
       "deidentified_location     object\n",
       "temp_obs                 float64\n",
       "cloudiness               float64\n",
       "wind_direction           float64\n",
       "dew_temp                 float64\n",
       "pressure_sea_level       float64\n",
       "precipitation            float64\n",
       "wind_speed               float64\n",
       "dtype: object"
      ]
     },
     "execution_count": 8,
     "metadata": {},
     "output_type": "execute_result"
    }
   ],
   "source": [
    "df.dtypes"
   ]
  },
  {
   "cell_type": "markdown",
   "metadata": {
    "id": "nHgDOgzuJXCa"
   },
   "source": [
    "### Converting the datatypes "
   ]
  },
  {
   "cell_type": "code",
   "execution_count": 9,
   "metadata": {
    "id": "8jyPuhe_wzRP"
   },
   "outputs": [],
   "source": [
    "df['ingredient_type'] = df['ingredient_type'].astype('category') \n",
    "df['date'] = pd.to_datetime(df['date'])\n",
    "df['farming_company'] = df['farming_company'].astype('category')\n",
    "df['deidentified_location'] = df['deidentified_location'].astype('category')"
   ]
  },
  {
   "cell_type": "code",
   "execution_count": 10,
   "metadata": {
    "colab": {
     "base_uri": "https://localhost:8080/"
    },
    "id": "fdZOwhZ4xiyy",
    "outputId": "c4f73dc8-620f-418c-87ab-cd446c866cd3"
   },
   "outputs": [
    {
     "data": {
      "text/plain": [
       "date                     datetime64[ns]\n",
       "farm_id                          object\n",
       "ingredient_type                category\n",
       "yield                           float64\n",
       "farm_area                       float64\n",
       "farming_company                category\n",
       "deidentified_location          category\n",
       "temp_obs                        float64\n",
       "cloudiness                      float64\n",
       "wind_direction                  float64\n",
       "dew_temp                        float64\n",
       "pressure_sea_level              float64\n",
       "precipitation                   float64\n",
       "wind_speed                      float64\n",
       "dtype: object"
      ]
     },
     "execution_count": 10,
     "metadata": {},
     "output_type": "execute_result"
    }
   ],
   "source": [
    "df.dtypes"
   ]
  },
  {
   "cell_type": "markdown",
   "metadata": {
    "id": "EWPkObT8JXCb"
   },
   "source": [
    "### Setting date as index "
   ]
  },
  {
   "cell_type": "code",
   "execution_count": 11,
   "metadata": {
    "id": "rRzjMdbdxja3"
   },
   "outputs": [],
   "source": [
    "df1 = df.set_index(\"date\")"
   ]
  },
  {
   "cell_type": "markdown",
   "metadata": {
    "id": "AGWGMdJfJXCb"
   },
   "source": [
    "### Checking top 5 rows of data"
   ]
  },
  {
   "cell_type": "code",
   "execution_count": 12,
   "metadata": {
    "colab": {
     "base_uri": "https://localhost:8080/",
     "height": 388
    },
    "id": "YhnvgUMVxjdt",
    "outputId": "f61ae9e6-4504-4a80-b169-7fb31df1213a"
   },
   "outputs": [
    {
     "data": {
      "text/html": [
       "\n",
       "  <div id=\"df-4c0c18ee-16cb-4ba0-b48e-73b4bf13a978\">\n",
       "    <div class=\"colab-df-container\">\n",
       "      <div>\n",
       "<style scoped>\n",
       "    .dataframe tbody tr th:only-of-type {\n",
       "        vertical-align: middle;\n",
       "    }\n",
       "\n",
       "    .dataframe tbody tr th {\n",
       "        vertical-align: top;\n",
       "    }\n",
       "\n",
       "    .dataframe thead th {\n",
       "        text-align: right;\n",
       "    }\n",
       "</style>\n",
       "<table border=\"1\" class=\"dataframe\">\n",
       "  <thead>\n",
       "    <tr style=\"text-align: right;\">\n",
       "      <th></th>\n",
       "      <th>farm_id</th>\n",
       "      <th>ingredient_type</th>\n",
       "      <th>yield</th>\n",
       "      <th>farm_area</th>\n",
       "      <th>farming_company</th>\n",
       "      <th>deidentified_location</th>\n",
       "      <th>temp_obs</th>\n",
       "      <th>cloudiness</th>\n",
       "      <th>wind_direction</th>\n",
       "      <th>dew_temp</th>\n",
       "      <th>pressure_sea_level</th>\n",
       "      <th>precipitation</th>\n",
       "      <th>wind_speed</th>\n",
       "    </tr>\n",
       "    <tr>\n",
       "      <th>date</th>\n",
       "      <th></th>\n",
       "      <th></th>\n",
       "      <th></th>\n",
       "      <th></th>\n",
       "      <th></th>\n",
       "      <th></th>\n",
       "      <th></th>\n",
       "      <th></th>\n",
       "      <th></th>\n",
       "      <th></th>\n",
       "      <th></th>\n",
       "      <th></th>\n",
       "      <th></th>\n",
       "    </tr>\n",
       "  </thead>\n",
       "  <tbody>\n",
       "    <tr>\n",
       "      <th>2016-01-01</th>\n",
       "      <td>fid_100053</td>\n",
       "      <td>ing_w</td>\n",
       "      <td>37.04</td>\n",
       "      <td>2043.866000</td>\n",
       "      <td>Del Monte Foods</td>\n",
       "      <td>location 5290</td>\n",
       "      <td>10.0</td>\n",
       "      <td>8.0</td>\n",
       "      <td>350.0</td>\n",
       "      <td>2.2</td>\n",
       "      <td>1021.1</td>\n",
       "      <td>0.983047</td>\n",
       "      <td>4.1</td>\n",
       "    </tr>\n",
       "    <tr>\n",
       "      <th>2016-01-01</th>\n",
       "      <td>fid_100135</td>\n",
       "      <td>ing_w</td>\n",
       "      <td>15.64</td>\n",
       "      <td>1432.564260</td>\n",
       "      <td>Dole Food Company</td>\n",
       "      <td>location 5290</td>\n",
       "      <td>10.0</td>\n",
       "      <td>8.0</td>\n",
       "      <td>350.0</td>\n",
       "      <td>2.2</td>\n",
       "      <td>1021.1</td>\n",
       "      <td>0.983047</td>\n",
       "      <td>4.1</td>\n",
       "    </tr>\n",
       "    <tr>\n",
       "      <th>2016-01-01</th>\n",
       "      <td>fid_100303</td>\n",
       "      <td>ing_w</td>\n",
       "      <td>32.76</td>\n",
       "      <td>3716.120000</td>\n",
       "      <td>Wayne Farms</td>\n",
       "      <td>location 5290</td>\n",
       "      <td>10.0</td>\n",
       "      <td>8.0</td>\n",
       "      <td>350.0</td>\n",
       "      <td>2.2</td>\n",
       "      <td>1021.1</td>\n",
       "      <td>0.983047</td>\n",
       "      <td>4.1</td>\n",
       "    </tr>\n",
       "    <tr>\n",
       "      <th>2016-01-01</th>\n",
       "      <td>fid_101875</td>\n",
       "      <td>ing_w</td>\n",
       "      <td>10.60</td>\n",
       "      <td>2712.024376</td>\n",
       "      <td>Foster Farms</td>\n",
       "      <td>location 5290</td>\n",
       "      <td>10.0</td>\n",
       "      <td>8.0</td>\n",
       "      <td>350.0</td>\n",
       "      <td>2.2</td>\n",
       "      <td>1021.1</td>\n",
       "      <td>0.983047</td>\n",
       "      <td>4.1</td>\n",
       "    </tr>\n",
       "    <tr>\n",
       "      <th>2016-01-01</th>\n",
       "      <td>fid_102288</td>\n",
       "      <td>ing_w</td>\n",
       "      <td>32.56</td>\n",
       "      <td>13378.032000</td>\n",
       "      <td>Del Monte Foods</td>\n",
       "      <td>location 5290</td>\n",
       "      <td>10.0</td>\n",
       "      <td>8.0</td>\n",
       "      <td>350.0</td>\n",
       "      <td>2.2</td>\n",
       "      <td>1021.1</td>\n",
       "      <td>0.983047</td>\n",
       "      <td>4.1</td>\n",
       "    </tr>\n",
       "  </tbody>\n",
       "</table>\n",
       "</div>\n",
       "      <button class=\"colab-df-convert\" onclick=\"convertToInteractive('df-4c0c18ee-16cb-4ba0-b48e-73b4bf13a978')\"\n",
       "              title=\"Convert this dataframe to an interactive table.\"\n",
       "              style=\"display:none;\">\n",
       "        \n",
       "  <svg xmlns=\"http://www.w3.org/2000/svg\" height=\"24px\"viewBox=\"0 0 24 24\"\n",
       "       width=\"24px\">\n",
       "    <path d=\"M0 0h24v24H0V0z\" fill=\"none\"/>\n",
       "    <path d=\"M18.56 5.44l.94 2.06.94-2.06 2.06-.94-2.06-.94-.94-2.06-.94 2.06-2.06.94zm-11 1L8.5 8.5l.94-2.06 2.06-.94-2.06-.94L8.5 2.5l-.94 2.06-2.06.94zm10 10l.94 2.06.94-2.06 2.06-.94-2.06-.94-.94-2.06-.94 2.06-2.06.94z\"/><path d=\"M17.41 7.96l-1.37-1.37c-.4-.4-.92-.59-1.43-.59-.52 0-1.04.2-1.43.59L10.3 9.45l-7.72 7.72c-.78.78-.78 2.05 0 2.83L4 21.41c.39.39.9.59 1.41.59.51 0 1.02-.2 1.41-.59l7.78-7.78 2.81-2.81c.8-.78.8-2.07 0-2.86zM5.41 20L4 18.59l7.72-7.72 1.47 1.35L5.41 20z\"/>\n",
       "  </svg>\n",
       "      </button>\n",
       "      \n",
       "  <style>\n",
       "    .colab-df-container {\n",
       "      display:flex;\n",
       "      flex-wrap:wrap;\n",
       "      gap: 12px;\n",
       "    }\n",
       "\n",
       "    .colab-df-convert {\n",
       "      background-color: #E8F0FE;\n",
       "      border: none;\n",
       "      border-radius: 50%;\n",
       "      cursor: pointer;\n",
       "      display: none;\n",
       "      fill: #1967D2;\n",
       "      height: 32px;\n",
       "      padding: 0 0 0 0;\n",
       "      width: 32px;\n",
       "    }\n",
       "\n",
       "    .colab-df-convert:hover {\n",
       "      background-color: #E2EBFA;\n",
       "      box-shadow: 0px 1px 2px rgba(60, 64, 67, 0.3), 0px 1px 3px 1px rgba(60, 64, 67, 0.15);\n",
       "      fill: #174EA6;\n",
       "    }\n",
       "\n",
       "    [theme=dark] .colab-df-convert {\n",
       "      background-color: #3B4455;\n",
       "      fill: #D2E3FC;\n",
       "    }\n",
       "\n",
       "    [theme=dark] .colab-df-convert:hover {\n",
       "      background-color: #434B5C;\n",
       "      box-shadow: 0px 1px 3px 1px rgba(0, 0, 0, 0.15);\n",
       "      filter: drop-shadow(0px 1px 2px rgba(0, 0, 0, 0.3));\n",
       "      fill: #FFFFFF;\n",
       "    }\n",
       "  </style>\n",
       "\n",
       "      <script>\n",
       "        const buttonEl =\n",
       "          document.querySelector('#df-4c0c18ee-16cb-4ba0-b48e-73b4bf13a978 button.colab-df-convert');\n",
       "        buttonEl.style.display =\n",
       "          google.colab.kernel.accessAllowed ? 'block' : 'none';\n",
       "\n",
       "        async function convertToInteractive(key) {\n",
       "          const element = document.querySelector('#df-4c0c18ee-16cb-4ba0-b48e-73b4bf13a978');\n",
       "          const dataTable =\n",
       "            await google.colab.kernel.invokeFunction('convertToInteractive',\n",
       "                                                     [key], {});\n",
       "          if (!dataTable) return;\n",
       "\n",
       "          const docLinkHtml = 'Like what you see? Visit the ' +\n",
       "            '<a target=\"_blank\" href=https://colab.research.google.com/notebooks/data_table.ipynb>data table notebook</a>'\n",
       "            + ' to learn more about interactive tables.';\n",
       "          element.innerHTML = '';\n",
       "          dataTable['output_type'] = 'display_data';\n",
       "          await google.colab.output.renderOutput(dataTable, element);\n",
       "          const docLink = document.createElement('div');\n",
       "          docLink.innerHTML = docLinkHtml;\n",
       "          element.appendChild(docLink);\n",
       "        }\n",
       "      </script>\n",
       "    </div>\n",
       "  </div>\n",
       "  "
      ],
      "text/plain": [
       "               farm_id ingredient_type  yield     farm_area  \\\n",
       "date                                                          \n",
       "2016-01-01  fid_100053           ing_w  37.04   2043.866000   \n",
       "2016-01-01  fid_100135           ing_w  15.64   1432.564260   \n",
       "2016-01-01  fid_100303           ing_w  32.76   3716.120000   \n",
       "2016-01-01  fid_101875           ing_w  10.60   2712.024376   \n",
       "2016-01-01  fid_102288           ing_w  32.56  13378.032000   \n",
       "\n",
       "              farming_company deidentified_location  temp_obs  cloudiness  \\\n",
       "date                                                                        \n",
       "2016-01-01    Del Monte Foods         location 5290      10.0         8.0   \n",
       "2016-01-01  Dole Food Company         location 5290      10.0         8.0   \n",
       "2016-01-01        Wayne Farms         location 5290      10.0         8.0   \n",
       "2016-01-01       Foster Farms         location 5290      10.0         8.0   \n",
       "2016-01-01    Del Monte Foods         location 5290      10.0         8.0   \n",
       "\n",
       "            wind_direction  dew_temp  pressure_sea_level  precipitation  \\\n",
       "date                                                                      \n",
       "2016-01-01           350.0       2.2              1021.1       0.983047   \n",
       "2016-01-01           350.0       2.2              1021.1       0.983047   \n",
       "2016-01-01           350.0       2.2              1021.1       0.983047   \n",
       "2016-01-01           350.0       2.2              1021.1       0.983047   \n",
       "2016-01-01           350.0       2.2              1021.1       0.983047   \n",
       "\n",
       "            wind_speed  \n",
       "date                    \n",
       "2016-01-01         4.1  \n",
       "2016-01-01         4.1  \n",
       "2016-01-01         4.1  \n",
       "2016-01-01         4.1  \n",
       "2016-01-01         4.1  "
      ]
     },
     "execution_count": 12,
     "metadata": {},
     "output_type": "execute_result"
    }
   ],
   "source": [
    "df1.head()"
   ]
  },
  {
   "cell_type": "markdown",
   "metadata": {
    "id": "yiSX1DsGJXCb"
   },
   "source": [
    "### checking the index values"
   ]
  },
  {
   "cell_type": "code",
   "execution_count": 13,
   "metadata": {
    "colab": {
     "base_uri": "https://localhost:8080/"
    },
    "id": "V-waj2HnxjgM",
    "outputId": "935e98f6-4ed2-4359-a9c0-b5d0c84067c0"
   },
   "outputs": [
    {
     "data": {
      "text/plain": [
       "DatetimeIndex(['2016-01-01 00:00:00', '2016-01-01 00:00:00',\n",
       "               '2016-01-01 00:00:00', '2016-01-01 00:00:00',\n",
       "               '2016-01-01 00:00:00', '2016-01-01 00:00:00',\n",
       "               '2016-01-01 00:00:00', '2016-01-01 00:00:00',\n",
       "               '2016-01-01 00:00:00', '2016-01-01 00:00:00',\n",
       "               ...\n",
       "               '2016-12-04 08:00:00', '2016-12-04 09:00:00',\n",
       "               '2016-12-04 09:00:00', '2016-12-04 09:00:00',\n",
       "               '2016-12-04 10:00:00', '2016-12-04 10:00:00',\n",
       "               '2016-12-04 10:00:00', '2016-12-04 11:00:00',\n",
       "               '2016-12-04 11:00:00', '2016-12-04 11:00:00'],\n",
       "              dtype='datetime64[ns]', name='date', length=20241164, freq=None)"
      ]
     },
     "execution_count": 13,
     "metadata": {},
     "output_type": "execute_result"
    }
   ],
   "source": [
    "df1.index"
   ]
  },
  {
   "cell_type": "markdown",
   "metadata": {
    "id": "n1qGT40NJXCc"
   },
   "source": [
    "### Separting one farm and storing it in one variable to do analysis"
   ]
  },
  {
   "cell_type": "code",
   "execution_count": 14,
   "metadata": {
    "id": "dgcQsDP9xjjS"
   },
   "outputs": [],
   "source": [
    "fid_110884 = df1[df1['farm_id']=='fid_110884']"
   ]
  },
  {
   "cell_type": "markdown",
   "metadata": {
    "id": "JFa4Zp9jJXCc"
   },
   "source": [
    "### Checking the shape of the farm"
   ]
  },
  {
   "cell_type": "code",
   "execution_count": 15,
   "metadata": {
    "colab": {
     "base_uri": "https://localhost:8080/"
    },
    "id": "OxXNl9FIx9Mb",
    "outputId": "226b1c41-3a6a-4dcd-c0ec-5a3379c2c539"
   },
   "outputs": [
    {
     "data": {
      "text/plain": [
       "(8784, 13)"
      ]
     },
     "execution_count": 15,
     "metadata": {},
     "output_type": "execute_result"
    }
   ],
   "source": [
    "fid_110884.shape"
   ]
  },
  {
   "cell_type": "markdown",
   "metadata": {
    "id": "vcigy8tMJXCc"
   },
   "source": [
    "### creating new features based on datetime index"
   ]
  },
  {
   "cell_type": "code",
   "execution_count": 16,
   "metadata": {
    "colab": {
     "base_uri": "https://localhost:8080/"
    },
    "id": "ynu1cYO0x9Pp",
    "outputId": "8e723c97-16c1-4ad9-9909-861118c13ea4"
   },
   "outputs": [
    {
     "name": "stderr",
     "output_type": "stream",
     "text": [
      "<ipython-input-16-69426bf7a57c>:3: SettingWithCopyWarning: \n",
      "A value is trying to be set on a copy of a slice from a DataFrame.\n",
      "Try using .loc[row_indexer,col_indexer] = value instead\n",
      "\n",
      "See the caveats in the documentation: https://pandas.pydata.org/pandas-docs/stable/user_guide/indexing.html#returning-a-view-versus-a-copy\n",
      "  fid_110884['hour'] = fid_110884.index.hour\n",
      "<ipython-input-16-69426bf7a57c>:4: SettingWithCopyWarning: \n",
      "A value is trying to be set on a copy of a slice from a DataFrame.\n",
      "Try using .loc[row_indexer,col_indexer] = value instead\n",
      "\n",
      "See the caveats in the documentation: https://pandas.pydata.org/pandas-docs/stable/user_guide/indexing.html#returning-a-view-versus-a-copy\n",
      "  fid_110884['dayofweek'] = fid_110884.index.dayofweek\n",
      "<ipython-input-16-69426bf7a57c>:5: SettingWithCopyWarning: \n",
      "A value is trying to be set on a copy of a slice from a DataFrame.\n",
      "Try using .loc[row_indexer,col_indexer] = value instead\n",
      "\n",
      "See the caveats in the documentation: https://pandas.pydata.org/pandas-docs/stable/user_guide/indexing.html#returning-a-view-versus-a-copy\n",
      "  fid_110884['quarter'] = fid_110884.index.quarter\n",
      "<ipython-input-16-69426bf7a57c>:6: SettingWithCopyWarning: \n",
      "A value is trying to be set on a copy of a slice from a DataFrame.\n",
      "Try using .loc[row_indexer,col_indexer] = value instead\n",
      "\n",
      "See the caveats in the documentation: https://pandas.pydata.org/pandas-docs/stable/user_guide/indexing.html#returning-a-view-versus-a-copy\n",
      "  fid_110884['month'] = fid_110884.index.month\n",
      "<ipython-input-16-69426bf7a57c>:7: SettingWithCopyWarning: \n",
      "A value is trying to be set on a copy of a slice from a DataFrame.\n",
      "Try using .loc[row_indexer,col_indexer] = value instead\n",
      "\n",
      "See the caveats in the documentation: https://pandas.pydata.org/pandas-docs/stable/user_guide/indexing.html#returning-a-view-versus-a-copy\n",
      "  fid_110884['dayofyear'] = fid_110884.index.dayofyear\n"
     ]
    }
   ],
   "source": [
    "def create_features(fid_110884):\n",
    "    fid_110884.copy()\n",
    "    fid_110884['hour'] = fid_110884.index.hour\n",
    "    fid_110884['dayofweek'] = fid_110884.index.dayofweek\n",
    "    fid_110884['quarter'] = fid_110884.index.quarter\n",
    "    fid_110884['month'] = fid_110884.index.month\n",
    "    fid_110884['dayofyear'] = fid_110884.index.dayofyear\n",
    "    return fid_110884\n",
    "\n",
    "fid_110884 = create_features(fid_110884)"
   ]
  },
  {
   "cell_type": "markdown",
   "metadata": {
    "id": "xihB0kZjJXCd"
   },
   "source": [
    "### Checking the top 5 rows of data"
   ]
  },
  {
   "cell_type": "code",
   "execution_count": 17,
   "metadata": {
    "colab": {
     "base_uri": "https://localhost:8080/",
     "height": 475
    },
    "id": "m3Cfv_3Nx9Sf",
    "outputId": "b79c819b-a009-4b66-86c6-433741c8a6d2"
   },
   "outputs": [
    {
     "data": {
      "text/html": [
       "\n",
       "  <div id=\"df-5f00bfb9-5ff6-4f26-b107-e0575efb5ff5\">\n",
       "    <div class=\"colab-df-container\">\n",
       "      <div>\n",
       "<style scoped>\n",
       "    .dataframe tbody tr th:only-of-type {\n",
       "        vertical-align: middle;\n",
       "    }\n",
       "\n",
       "    .dataframe tbody tr th {\n",
       "        vertical-align: top;\n",
       "    }\n",
       "\n",
       "    .dataframe thead th {\n",
       "        text-align: right;\n",
       "    }\n",
       "</style>\n",
       "<table border=\"1\" class=\"dataframe\">\n",
       "  <thead>\n",
       "    <tr style=\"text-align: right;\">\n",
       "      <th></th>\n",
       "      <th>farm_id</th>\n",
       "      <th>ingredient_type</th>\n",
       "      <th>yield</th>\n",
       "      <th>farm_area</th>\n",
       "      <th>farming_company</th>\n",
       "      <th>deidentified_location</th>\n",
       "      <th>temp_obs</th>\n",
       "      <th>cloudiness</th>\n",
       "      <th>wind_direction</th>\n",
       "      <th>dew_temp</th>\n",
       "      <th>pressure_sea_level</th>\n",
       "      <th>precipitation</th>\n",
       "      <th>wind_speed</th>\n",
       "      <th>hour</th>\n",
       "      <th>dayofweek</th>\n",
       "      <th>quarter</th>\n",
       "      <th>month</th>\n",
       "      <th>dayofyear</th>\n",
       "    </tr>\n",
       "    <tr>\n",
       "      <th>date</th>\n",
       "      <th></th>\n",
       "      <th></th>\n",
       "      <th></th>\n",
       "      <th></th>\n",
       "      <th></th>\n",
       "      <th></th>\n",
       "      <th></th>\n",
       "      <th></th>\n",
       "      <th></th>\n",
       "      <th></th>\n",
       "      <th></th>\n",
       "      <th></th>\n",
       "      <th></th>\n",
       "      <th></th>\n",
       "      <th></th>\n",
       "      <th></th>\n",
       "      <th></th>\n",
       "      <th></th>\n",
       "    </tr>\n",
       "  </thead>\n",
       "  <tbody>\n",
       "    <tr>\n",
       "      <th>2016-01-01 00:00:00</th>\n",
       "      <td>fid_110884</td>\n",
       "      <td>ing_w</td>\n",
       "      <td>0.0</td>\n",
       "      <td>690.455096</td>\n",
       "      <td>Obery Farms</td>\n",
       "      <td>location 7369</td>\n",
       "      <td>25.0</td>\n",
       "      <td>6.000000</td>\n",
       "      <td>0.0</td>\n",
       "      <td>20.0</td>\n",
       "      <td>1019.7</td>\n",
       "      <td>0.983047</td>\n",
       "      <td>0.0</td>\n",
       "      <td>0</td>\n",
       "      <td>4</td>\n",
       "      <td>1</td>\n",
       "      <td>1</td>\n",
       "      <td>1</td>\n",
       "    </tr>\n",
       "    <tr>\n",
       "      <th>2016-01-01 01:00:00</th>\n",
       "      <td>fid_110884</td>\n",
       "      <td>ing_w</td>\n",
       "      <td>0.0</td>\n",
       "      <td>690.455096</td>\n",
       "      <td>Obery Farms</td>\n",
       "      <td>location 7369</td>\n",
       "      <td>24.4</td>\n",
       "      <td>2.149306</td>\n",
       "      <td>70.0</td>\n",
       "      <td>21.1</td>\n",
       "      <td>1020.2</td>\n",
       "      <td>-1.000000</td>\n",
       "      <td>1.5</td>\n",
       "      <td>1</td>\n",
       "      <td>4</td>\n",
       "      <td>1</td>\n",
       "      <td>1</td>\n",
       "      <td>1</td>\n",
       "    </tr>\n",
       "    <tr>\n",
       "      <th>2016-01-01 02:00:00</th>\n",
       "      <td>fid_110884</td>\n",
       "      <td>ing_w</td>\n",
       "      <td>0.0</td>\n",
       "      <td>690.455096</td>\n",
       "      <td>Obery Farms</td>\n",
       "      <td>location 7369</td>\n",
       "      <td>22.8</td>\n",
       "      <td>2.000000</td>\n",
       "      <td>0.0</td>\n",
       "      <td>21.1</td>\n",
       "      <td>1020.2</td>\n",
       "      <td>0.000000</td>\n",
       "      <td>0.0</td>\n",
       "      <td>2</td>\n",
       "      <td>4</td>\n",
       "      <td>1</td>\n",
       "      <td>1</td>\n",
       "      <td>1</td>\n",
       "    </tr>\n",
       "    <tr>\n",
       "      <th>2016-01-01 03:00:00</th>\n",
       "      <td>fid_110884</td>\n",
       "      <td>ing_w</td>\n",
       "      <td>0.0</td>\n",
       "      <td>690.455096</td>\n",
       "      <td>Obery Farms</td>\n",
       "      <td>location 7369</td>\n",
       "      <td>21.1</td>\n",
       "      <td>2.000000</td>\n",
       "      <td>0.0</td>\n",
       "      <td>20.6</td>\n",
       "      <td>1020.1</td>\n",
       "      <td>0.000000</td>\n",
       "      <td>0.0</td>\n",
       "      <td>3</td>\n",
       "      <td>4</td>\n",
       "      <td>1</td>\n",
       "      <td>1</td>\n",
       "      <td>1</td>\n",
       "    </tr>\n",
       "    <tr>\n",
       "      <th>2016-01-01 04:00:00</th>\n",
       "      <td>fid_110884</td>\n",
       "      <td>ing_w</td>\n",
       "      <td>0.0</td>\n",
       "      <td>690.455096</td>\n",
       "      <td>Obery Farms</td>\n",
       "      <td>location 7369</td>\n",
       "      <td>20.0</td>\n",
       "      <td>2.000000</td>\n",
       "      <td>250.0</td>\n",
       "      <td>20.0</td>\n",
       "      <td>1020.0</td>\n",
       "      <td>-1.000000</td>\n",
       "      <td>2.6</td>\n",
       "      <td>4</td>\n",
       "      <td>4</td>\n",
       "      <td>1</td>\n",
       "      <td>1</td>\n",
       "      <td>1</td>\n",
       "    </tr>\n",
       "  </tbody>\n",
       "</table>\n",
       "</div>\n",
       "      <button class=\"colab-df-convert\" onclick=\"convertToInteractive('df-5f00bfb9-5ff6-4f26-b107-e0575efb5ff5')\"\n",
       "              title=\"Convert this dataframe to an interactive table.\"\n",
       "              style=\"display:none;\">\n",
       "        \n",
       "  <svg xmlns=\"http://www.w3.org/2000/svg\" height=\"24px\"viewBox=\"0 0 24 24\"\n",
       "       width=\"24px\">\n",
       "    <path d=\"M0 0h24v24H0V0z\" fill=\"none\"/>\n",
       "    <path d=\"M18.56 5.44l.94 2.06.94-2.06 2.06-.94-2.06-.94-.94-2.06-.94 2.06-2.06.94zm-11 1L8.5 8.5l.94-2.06 2.06-.94-2.06-.94L8.5 2.5l-.94 2.06-2.06.94zm10 10l.94 2.06.94-2.06 2.06-.94-2.06-.94-.94-2.06-.94 2.06-2.06.94z\"/><path d=\"M17.41 7.96l-1.37-1.37c-.4-.4-.92-.59-1.43-.59-.52 0-1.04.2-1.43.59L10.3 9.45l-7.72 7.72c-.78.78-.78 2.05 0 2.83L4 21.41c.39.39.9.59 1.41.59.51 0 1.02-.2 1.41-.59l7.78-7.78 2.81-2.81c.8-.78.8-2.07 0-2.86zM5.41 20L4 18.59l7.72-7.72 1.47 1.35L5.41 20z\"/>\n",
       "  </svg>\n",
       "      </button>\n",
       "      \n",
       "  <style>\n",
       "    .colab-df-container {\n",
       "      display:flex;\n",
       "      flex-wrap:wrap;\n",
       "      gap: 12px;\n",
       "    }\n",
       "\n",
       "    .colab-df-convert {\n",
       "      background-color: #E8F0FE;\n",
       "      border: none;\n",
       "      border-radius: 50%;\n",
       "      cursor: pointer;\n",
       "      display: none;\n",
       "      fill: #1967D2;\n",
       "      height: 32px;\n",
       "      padding: 0 0 0 0;\n",
       "      width: 32px;\n",
       "    }\n",
       "\n",
       "    .colab-df-convert:hover {\n",
       "      background-color: #E2EBFA;\n",
       "      box-shadow: 0px 1px 2px rgba(60, 64, 67, 0.3), 0px 1px 3px 1px rgba(60, 64, 67, 0.15);\n",
       "      fill: #174EA6;\n",
       "    }\n",
       "\n",
       "    [theme=dark] .colab-df-convert {\n",
       "      background-color: #3B4455;\n",
       "      fill: #D2E3FC;\n",
       "    }\n",
       "\n",
       "    [theme=dark] .colab-df-convert:hover {\n",
       "      background-color: #434B5C;\n",
       "      box-shadow: 0px 1px 3px 1px rgba(0, 0, 0, 0.15);\n",
       "      filter: drop-shadow(0px 1px 2px rgba(0, 0, 0, 0.3));\n",
       "      fill: #FFFFFF;\n",
       "    }\n",
       "  </style>\n",
       "\n",
       "      <script>\n",
       "        const buttonEl =\n",
       "          document.querySelector('#df-5f00bfb9-5ff6-4f26-b107-e0575efb5ff5 button.colab-df-convert');\n",
       "        buttonEl.style.display =\n",
       "          google.colab.kernel.accessAllowed ? 'block' : 'none';\n",
       "\n",
       "        async function convertToInteractive(key) {\n",
       "          const element = document.querySelector('#df-5f00bfb9-5ff6-4f26-b107-e0575efb5ff5');\n",
       "          const dataTable =\n",
       "            await google.colab.kernel.invokeFunction('convertToInteractive',\n",
       "                                                     [key], {});\n",
       "          if (!dataTable) return;\n",
       "\n",
       "          const docLinkHtml = 'Like what you see? Visit the ' +\n",
       "            '<a target=\"_blank\" href=https://colab.research.google.com/notebooks/data_table.ipynb>data table notebook</a>'\n",
       "            + ' to learn more about interactive tables.';\n",
       "          element.innerHTML = '';\n",
       "          dataTable['output_type'] = 'display_data';\n",
       "          await google.colab.output.renderOutput(dataTable, element);\n",
       "          const docLink = document.createElement('div');\n",
       "          docLink.innerHTML = docLinkHtml;\n",
       "          element.appendChild(docLink);\n",
       "        }\n",
       "      </script>\n",
       "    </div>\n",
       "  </div>\n",
       "  "
      ],
      "text/plain": [
       "                        farm_id ingredient_type  yield   farm_area  \\\n",
       "date                                                                 \n",
       "2016-01-01 00:00:00  fid_110884           ing_w    0.0  690.455096   \n",
       "2016-01-01 01:00:00  fid_110884           ing_w    0.0  690.455096   \n",
       "2016-01-01 02:00:00  fid_110884           ing_w    0.0  690.455096   \n",
       "2016-01-01 03:00:00  fid_110884           ing_w    0.0  690.455096   \n",
       "2016-01-01 04:00:00  fid_110884           ing_w    0.0  690.455096   \n",
       "\n",
       "                    farming_company deidentified_location  temp_obs  \\\n",
       "date                                                                  \n",
       "2016-01-01 00:00:00     Obery Farms         location 7369      25.0   \n",
       "2016-01-01 01:00:00     Obery Farms         location 7369      24.4   \n",
       "2016-01-01 02:00:00     Obery Farms         location 7369      22.8   \n",
       "2016-01-01 03:00:00     Obery Farms         location 7369      21.1   \n",
       "2016-01-01 04:00:00     Obery Farms         location 7369      20.0   \n",
       "\n",
       "                     cloudiness  wind_direction  dew_temp  pressure_sea_level  \\\n",
       "date                                                                            \n",
       "2016-01-01 00:00:00    6.000000             0.0      20.0              1019.7   \n",
       "2016-01-01 01:00:00    2.149306            70.0      21.1              1020.2   \n",
       "2016-01-01 02:00:00    2.000000             0.0      21.1              1020.2   \n",
       "2016-01-01 03:00:00    2.000000             0.0      20.6              1020.1   \n",
       "2016-01-01 04:00:00    2.000000           250.0      20.0              1020.0   \n",
       "\n",
       "                     precipitation  wind_speed  hour  dayofweek  quarter  \\\n",
       "date                                                                       \n",
       "2016-01-01 00:00:00       0.983047         0.0     0          4        1   \n",
       "2016-01-01 01:00:00      -1.000000         1.5     1          4        1   \n",
       "2016-01-01 02:00:00       0.000000         0.0     2          4        1   \n",
       "2016-01-01 03:00:00       0.000000         0.0     3          4        1   \n",
       "2016-01-01 04:00:00      -1.000000         2.6     4          4        1   \n",
       "\n",
       "                     month  dayofyear  \n",
       "date                                   \n",
       "2016-01-01 00:00:00      1          1  \n",
       "2016-01-01 01:00:00      1          1  \n",
       "2016-01-01 02:00:00      1          1  \n",
       "2016-01-01 03:00:00      1          1  \n",
       "2016-01-01 04:00:00      1          1  "
      ]
     },
     "execution_count": 17,
     "metadata": {},
     "output_type": "execute_result"
    }
   ],
   "source": [
    "fid_110884.head()"
   ]
  },
  {
   "cell_type": "markdown",
   "metadata": {
    "id": "_WabybXAJXCd"
   },
   "source": [
    "### checking null values"
   ]
  },
  {
   "cell_type": "code",
   "execution_count": 18,
   "metadata": {
    "colab": {
     "base_uri": "https://localhost:8080/"
    },
    "id": "SywuTZU2ayN_",
    "outputId": "3c021a11-9709-4e2f-dd42-6675f671bb1a"
   },
   "outputs": [
    {
     "data": {
      "text/plain": [
       "farm_id                  0\n",
       "ingredient_type          0\n",
       "yield                    0\n",
       "farm_area                0\n",
       "farming_company          0\n",
       "deidentified_location    0\n",
       "temp_obs                 0\n",
       "cloudiness               0\n",
       "wind_direction           0\n",
       "dew_temp                 0\n",
       "pressure_sea_level       0\n",
       "precipitation            0\n",
       "wind_speed               0\n",
       "hour                     0\n",
       "dayofweek                0\n",
       "quarter                  0\n",
       "month                    0\n",
       "dayofyear                0\n",
       "dtype: int64"
      ]
     },
     "execution_count": 18,
     "metadata": {},
     "output_type": "execute_result"
    }
   ],
   "source": [
    "fid_110884.isnull().sum()"
   ]
  },
  {
   "cell_type": "markdown",
   "metadata": {
    "id": "Ns1Z2XvRJXCd"
   },
   "source": [
    "### Checking the unique farming_companies present in the farm"
   ]
  },
  {
   "cell_type": "code",
   "execution_count": 19,
   "metadata": {
    "colab": {
     "base_uri": "https://localhost:8080/"
    },
    "id": "k53YatCTbCJc",
    "outputId": "3bcb2268-9b68-438a-d7f6-0052bd2d4579"
   },
   "outputs": [
    {
     "data": {
      "text/plain": [
       "['Obery Farms']\n",
       "Categories (16, object): ['Del Monte Foods', 'Dole Food Company', 'Foster Farms', 'Freight Farms', ...,\n",
       "                          'Southern Confederate Farms', 'Tyson Foods', 'Wayne Farms', 'West Liberty Foods']"
      ]
     },
     "execution_count": 19,
     "metadata": {},
     "output_type": "execute_result"
    }
   ],
   "source": [
    "fid_110884['farming_company'].unique()"
   ]
  },
  {
   "cell_type": "markdown",
   "metadata": {
    "id": "-A8L8ZrkJXCe"
   },
   "source": [
    "### Checking the unique ingredients present in the farm"
   ]
  },
  {
   "cell_type": "code",
   "execution_count": 20,
   "metadata": {
    "colab": {
     "base_uri": "https://localhost:8080/"
    },
    "id": "WmBC-0OSbKcT",
    "outputId": "684c6532-4209-42a2-b979-c33b374c19bd"
   },
   "outputs": [
    {
     "data": {
      "text/plain": [
       "['ing_w']\n",
       "Categories (4, object): ['ing_w', 'ing_x', 'ing_y', 'ing_z']"
      ]
     },
     "execution_count": 20,
     "metadata": {},
     "output_type": "execute_result"
    }
   ],
   "source": [
    "fid_110884['ingredient_type'].unique()"
   ]
  },
  {
   "cell_type": "markdown",
   "metadata": {
    "id": "An9PbKJxJXCe"
   },
   "source": [
    "### Checking the  farm_area of the farm"
   ]
  },
  {
   "cell_type": "code",
   "execution_count": 21,
   "metadata": {
    "colab": {
     "base_uri": "https://localhost:8080/"
    },
    "id": "2ZDAustdbK49",
    "outputId": "e94f13e7-cf1b-4986-c487-bfd328ae9f6d"
   },
   "outputs": [
    {
     "data": {
      "text/plain": [
       "array([690.455096])"
      ]
     },
     "execution_count": 21,
     "metadata": {},
     "output_type": "execute_result"
    }
   ],
   "source": [
    "fid_110884['farm_area'].unique()"
   ]
  },
  {
   "cell_type": "markdown",
   "metadata": {
    "id": "Yq0Wr6EWJXCe"
   },
   "source": [
    "### Checking the Unique location of the farm"
   ]
  },
  {
   "cell_type": "code",
   "execution_count": 22,
   "metadata": {
    "colab": {
     "base_uri": "https://localhost:8080/"
    },
    "id": "iKpAVg_HbV7k",
    "outputId": "d88a3749-a2d8-4a42-8d95-f5bae60f98ea"
   },
   "outputs": [
    {
     "data": {
      "text/plain": [
       "['location 7369']\n",
       "Categories (16, object): ['location 1784', 'location 2532', 'location 4525', 'location 5150', ...,\n",
       "                          'location 7369', 'location 8421', 'location 868', 'location 959']"
      ]
     },
     "execution_count": 22,
     "metadata": {},
     "output_type": "execute_result"
    }
   ],
   "source": [
    "fid_110884['deidentified_location'].unique()"
   ]
  },
  {
   "cell_type": "markdown",
   "metadata": {
    "id": "mnrt0b-UJXCf"
   },
   "source": [
    "### Dropping the unique columns which consists of unique strings and values throughout the dataset"
   ]
  },
  {
   "cell_type": "code",
   "execution_count": 23,
   "metadata": {
    "colab": {
     "base_uri": "https://localhost:8080/"
    },
    "id": "9GzN14CxbV-K",
    "outputId": "6719db52-29ad-468d-ff32-7e16903f143f"
   },
   "outputs": [
    {
     "name": "stderr",
     "output_type": "stream",
     "text": [
      "/usr/local/lib/python3.8/dist-packages/pandas/core/frame.py:4906: SettingWithCopyWarning: \n",
      "A value is trying to be set on a copy of a slice from a DataFrame\n",
      "\n",
      "See the caveats in the documentation: https://pandas.pydata.org/pandas-docs/stable/user_guide/indexing.html#returning-a-view-versus-a-copy\n",
      "  return super().drop(\n"
     ]
    }
   ],
   "source": [
    "fid_110884.drop(['ingredient_type','farm_area','farming_company','deidentified_location','farm_id'],axis=1,inplace=True)"
   ]
  },
  {
   "cell_type": "markdown",
   "metadata": {
    "id": "YZ9LAuznJXCf"
   },
   "source": [
    "### Seeing the top 5 rows of data"
   ]
  },
  {
   "cell_type": "code",
   "execution_count": 24,
   "metadata": {
    "colab": {
     "base_uri": "https://localhost:8080/",
     "height": 475
    },
    "id": "NzOqvBeVbWBk",
    "outputId": "94df76c5-ad09-461f-e203-abcca02eeb17"
   },
   "outputs": [
    {
     "data": {
      "text/html": [
       "\n",
       "  <div id=\"df-1f9df1b6-75dc-4629-bfe4-e866069ba1ac\">\n",
       "    <div class=\"colab-df-container\">\n",
       "      <div>\n",
       "<style scoped>\n",
       "    .dataframe tbody tr th:only-of-type {\n",
       "        vertical-align: middle;\n",
       "    }\n",
       "\n",
       "    .dataframe tbody tr th {\n",
       "        vertical-align: top;\n",
       "    }\n",
       "\n",
       "    .dataframe thead th {\n",
       "        text-align: right;\n",
       "    }\n",
       "</style>\n",
       "<table border=\"1\" class=\"dataframe\">\n",
       "  <thead>\n",
       "    <tr style=\"text-align: right;\">\n",
       "      <th></th>\n",
       "      <th>yield</th>\n",
       "      <th>temp_obs</th>\n",
       "      <th>cloudiness</th>\n",
       "      <th>wind_direction</th>\n",
       "      <th>dew_temp</th>\n",
       "      <th>pressure_sea_level</th>\n",
       "      <th>precipitation</th>\n",
       "      <th>wind_speed</th>\n",
       "      <th>hour</th>\n",
       "      <th>dayofweek</th>\n",
       "      <th>quarter</th>\n",
       "      <th>month</th>\n",
       "      <th>dayofyear</th>\n",
       "    </tr>\n",
       "    <tr>\n",
       "      <th>date</th>\n",
       "      <th></th>\n",
       "      <th></th>\n",
       "      <th></th>\n",
       "      <th></th>\n",
       "      <th></th>\n",
       "      <th></th>\n",
       "      <th></th>\n",
       "      <th></th>\n",
       "      <th></th>\n",
       "      <th></th>\n",
       "      <th></th>\n",
       "      <th></th>\n",
       "      <th></th>\n",
       "    </tr>\n",
       "  </thead>\n",
       "  <tbody>\n",
       "    <tr>\n",
       "      <th>2016-01-01 00:00:00</th>\n",
       "      <td>0.0</td>\n",
       "      <td>25.0</td>\n",
       "      <td>6.000000</td>\n",
       "      <td>0.0</td>\n",
       "      <td>20.0</td>\n",
       "      <td>1019.7</td>\n",
       "      <td>0.983047</td>\n",
       "      <td>0.0</td>\n",
       "      <td>0</td>\n",
       "      <td>4</td>\n",
       "      <td>1</td>\n",
       "      <td>1</td>\n",
       "      <td>1</td>\n",
       "    </tr>\n",
       "    <tr>\n",
       "      <th>2016-01-01 01:00:00</th>\n",
       "      <td>0.0</td>\n",
       "      <td>24.4</td>\n",
       "      <td>2.149306</td>\n",
       "      <td>70.0</td>\n",
       "      <td>21.1</td>\n",
       "      <td>1020.2</td>\n",
       "      <td>-1.000000</td>\n",
       "      <td>1.5</td>\n",
       "      <td>1</td>\n",
       "      <td>4</td>\n",
       "      <td>1</td>\n",
       "      <td>1</td>\n",
       "      <td>1</td>\n",
       "    </tr>\n",
       "    <tr>\n",
       "      <th>2016-01-01 02:00:00</th>\n",
       "      <td>0.0</td>\n",
       "      <td>22.8</td>\n",
       "      <td>2.000000</td>\n",
       "      <td>0.0</td>\n",
       "      <td>21.1</td>\n",
       "      <td>1020.2</td>\n",
       "      <td>0.000000</td>\n",
       "      <td>0.0</td>\n",
       "      <td>2</td>\n",
       "      <td>4</td>\n",
       "      <td>1</td>\n",
       "      <td>1</td>\n",
       "      <td>1</td>\n",
       "    </tr>\n",
       "    <tr>\n",
       "      <th>2016-01-01 03:00:00</th>\n",
       "      <td>0.0</td>\n",
       "      <td>21.1</td>\n",
       "      <td>2.000000</td>\n",
       "      <td>0.0</td>\n",
       "      <td>20.6</td>\n",
       "      <td>1020.1</td>\n",
       "      <td>0.000000</td>\n",
       "      <td>0.0</td>\n",
       "      <td>3</td>\n",
       "      <td>4</td>\n",
       "      <td>1</td>\n",
       "      <td>1</td>\n",
       "      <td>1</td>\n",
       "    </tr>\n",
       "    <tr>\n",
       "      <th>2016-01-01 04:00:00</th>\n",
       "      <td>0.0</td>\n",
       "      <td>20.0</td>\n",
       "      <td>2.000000</td>\n",
       "      <td>250.0</td>\n",
       "      <td>20.0</td>\n",
       "      <td>1020.0</td>\n",
       "      <td>-1.000000</td>\n",
       "      <td>2.6</td>\n",
       "      <td>4</td>\n",
       "      <td>4</td>\n",
       "      <td>1</td>\n",
       "      <td>1</td>\n",
       "      <td>1</td>\n",
       "    </tr>\n",
       "  </tbody>\n",
       "</table>\n",
       "</div>\n",
       "      <button class=\"colab-df-convert\" onclick=\"convertToInteractive('df-1f9df1b6-75dc-4629-bfe4-e866069ba1ac')\"\n",
       "              title=\"Convert this dataframe to an interactive table.\"\n",
       "              style=\"display:none;\">\n",
       "        \n",
       "  <svg xmlns=\"http://www.w3.org/2000/svg\" height=\"24px\"viewBox=\"0 0 24 24\"\n",
       "       width=\"24px\">\n",
       "    <path d=\"M0 0h24v24H0V0z\" fill=\"none\"/>\n",
       "    <path d=\"M18.56 5.44l.94 2.06.94-2.06 2.06-.94-2.06-.94-.94-2.06-.94 2.06-2.06.94zm-11 1L8.5 8.5l.94-2.06 2.06-.94-2.06-.94L8.5 2.5l-.94 2.06-2.06.94zm10 10l.94 2.06.94-2.06 2.06-.94-2.06-.94-.94-2.06-.94 2.06-2.06.94z\"/><path d=\"M17.41 7.96l-1.37-1.37c-.4-.4-.92-.59-1.43-.59-.52 0-1.04.2-1.43.59L10.3 9.45l-7.72 7.72c-.78.78-.78 2.05 0 2.83L4 21.41c.39.39.9.59 1.41.59.51 0 1.02-.2 1.41-.59l7.78-7.78 2.81-2.81c.8-.78.8-2.07 0-2.86zM5.41 20L4 18.59l7.72-7.72 1.47 1.35L5.41 20z\"/>\n",
       "  </svg>\n",
       "      </button>\n",
       "      \n",
       "  <style>\n",
       "    .colab-df-container {\n",
       "      display:flex;\n",
       "      flex-wrap:wrap;\n",
       "      gap: 12px;\n",
       "    }\n",
       "\n",
       "    .colab-df-convert {\n",
       "      background-color: #E8F0FE;\n",
       "      border: none;\n",
       "      border-radius: 50%;\n",
       "      cursor: pointer;\n",
       "      display: none;\n",
       "      fill: #1967D2;\n",
       "      height: 32px;\n",
       "      padding: 0 0 0 0;\n",
       "      width: 32px;\n",
       "    }\n",
       "\n",
       "    .colab-df-convert:hover {\n",
       "      background-color: #E2EBFA;\n",
       "      box-shadow: 0px 1px 2px rgba(60, 64, 67, 0.3), 0px 1px 3px 1px rgba(60, 64, 67, 0.15);\n",
       "      fill: #174EA6;\n",
       "    }\n",
       "\n",
       "    [theme=dark] .colab-df-convert {\n",
       "      background-color: #3B4455;\n",
       "      fill: #D2E3FC;\n",
       "    }\n",
       "\n",
       "    [theme=dark] .colab-df-convert:hover {\n",
       "      background-color: #434B5C;\n",
       "      box-shadow: 0px 1px 3px 1px rgba(0, 0, 0, 0.15);\n",
       "      filter: drop-shadow(0px 1px 2px rgba(0, 0, 0, 0.3));\n",
       "      fill: #FFFFFF;\n",
       "    }\n",
       "  </style>\n",
       "\n",
       "      <script>\n",
       "        const buttonEl =\n",
       "          document.querySelector('#df-1f9df1b6-75dc-4629-bfe4-e866069ba1ac button.colab-df-convert');\n",
       "        buttonEl.style.display =\n",
       "          google.colab.kernel.accessAllowed ? 'block' : 'none';\n",
       "\n",
       "        async function convertToInteractive(key) {\n",
       "          const element = document.querySelector('#df-1f9df1b6-75dc-4629-bfe4-e866069ba1ac');\n",
       "          const dataTable =\n",
       "            await google.colab.kernel.invokeFunction('convertToInteractive',\n",
       "                                                     [key], {});\n",
       "          if (!dataTable) return;\n",
       "\n",
       "          const docLinkHtml = 'Like what you see? Visit the ' +\n",
       "            '<a target=\"_blank\" href=https://colab.research.google.com/notebooks/data_table.ipynb>data table notebook</a>'\n",
       "            + ' to learn more about interactive tables.';\n",
       "          element.innerHTML = '';\n",
       "          dataTable['output_type'] = 'display_data';\n",
       "          await google.colab.output.renderOutput(dataTable, element);\n",
       "          const docLink = document.createElement('div');\n",
       "          docLink.innerHTML = docLinkHtml;\n",
       "          element.appendChild(docLink);\n",
       "        }\n",
       "      </script>\n",
       "    </div>\n",
       "  </div>\n",
       "  "
      ],
      "text/plain": [
       "                     yield  temp_obs  cloudiness  wind_direction  dew_temp  \\\n",
       "date                                                                         \n",
       "2016-01-01 00:00:00    0.0      25.0    6.000000             0.0      20.0   \n",
       "2016-01-01 01:00:00    0.0      24.4    2.149306            70.0      21.1   \n",
       "2016-01-01 02:00:00    0.0      22.8    2.000000             0.0      21.1   \n",
       "2016-01-01 03:00:00    0.0      21.1    2.000000             0.0      20.6   \n",
       "2016-01-01 04:00:00    0.0      20.0    2.000000           250.0      20.0   \n",
       "\n",
       "                     pressure_sea_level  precipitation  wind_speed  hour  \\\n",
       "date                                                                       \n",
       "2016-01-01 00:00:00              1019.7       0.983047         0.0     0   \n",
       "2016-01-01 01:00:00              1020.2      -1.000000         1.5     1   \n",
       "2016-01-01 02:00:00              1020.2       0.000000         0.0     2   \n",
       "2016-01-01 03:00:00              1020.1       0.000000         0.0     3   \n",
       "2016-01-01 04:00:00              1020.0      -1.000000         2.6     4   \n",
       "\n",
       "                     dayofweek  quarter  month  dayofyear  \n",
       "date                                                       \n",
       "2016-01-01 00:00:00          4        1      1          1  \n",
       "2016-01-01 01:00:00          4        1      1          1  \n",
       "2016-01-01 02:00:00          4        1      1          1  \n",
       "2016-01-01 03:00:00          4        1      1          1  \n",
       "2016-01-01 04:00:00          4        1      1          1  "
      ]
     },
     "execution_count": 24,
     "metadata": {},
     "output_type": "execute_result"
    }
   ],
   "source": [
    "fid_110884.head()"
   ]
  },
  {
   "cell_type": "markdown",
   "metadata": {
    "id": "ZCpehq3GJXCf"
   },
   "source": [
    "### Checking the yield of farm month wise"
   ]
  },
  {
   "cell_type": "code",
   "execution_count": 25,
   "metadata": {
    "colab": {
     "base_uri": "https://localhost:8080/",
     "height": 283
    },
    "id": "R-VmJg5-x9Uj",
    "outputId": "7626f62b-2b2d-480b-ab96-b12df4a19e48"
   },
   "outputs": [
    {
     "data": {
      "image/png": "[encoded data removed]",
      "text/plain": [
       "<Figure size 648x288 with 1 Axes>"
      ]
     },
     "metadata": {
      "needs_background": "light"
     },
     "output_type": "display_data"
    }
   ],
   "source": [
    "plt.figure(figsize=(9,4))\n",
    "sns.lineplot(x='month',y='yield',data=fid_110884)\n",
    "plt.show()"
   ]
  },
  {
   "cell_type": "markdown",
   "metadata": {
    "id": "MsL_vgnVJXCf"
   },
   "source": [
    "### The yield of fid_110884 has started increasing from 5th month  to 8th month again started little fall from 9th month"
   ]
  },
  {
   "cell_type": "markdown",
   "metadata": {
    "id": "9yLSt-cBJXCg"
   },
   "source": [
    "### Checking the yield of the farm daywise"
   ]
  },
  {
   "cell_type": "code",
   "execution_count": 26,
   "metadata": {
    "colab": {
     "base_uri": "https://localhost:8080/",
     "height": 279
    },
    "id": "DhnpmMndx9XP",
    "outputId": "ef8ca081-8b28-4b10-f618-fd3bb2607e4d"
   },
   "outputs": [
    {
     "data": {
      "image/png": "[encoded data removed]",
      "text/plain": [
       "<Figure size 648x288 with 1 Axes>"
      ]
     },
     "metadata": {
      "needs_background": "light"
     },
     "output_type": "display_data"
    }
   ],
   "source": [
    "plt.figure(figsize=(9,4))\n",
    "sns.lineplot(x='dayofweek',y='yield',data=fid_110884)\n",
    "plt.show()"
   ]
  },
  {
   "cell_type": "markdown",
   "metadata": {
    "id": "520JCtBLJXCg"
   },
   "source": [
    "### Checking the yield of the farm quarter wise"
   ]
  },
  {
   "cell_type": "code",
   "execution_count": 27,
   "metadata": {
    "colab": {
     "base_uri": "https://localhost:8080/",
     "height": 279
    },
    "id": "1SsdsrW4x9Z4",
    "outputId": "bc0acb83-77cf-42e2-8633-893f239eed4c"
   },
   "outputs": [
    {
     "data": {
      "image/png": "[encoded data removed]",
      "text/plain": [
       "<Figure size 648x288 with 1 Axes>"
      ]
     },
     "metadata": {
      "needs_background": "light"
     },
     "output_type": "display_data"
    }
   ],
   "source": [
    "plt.figure(figsize=(9,4))\n",
    "sns.lineplot(x='quarter',y='yield',data=fid_110884)\n",
    "plt.show()"
   ]
  },
  {
   "cell_type": "markdown",
   "metadata": {
    "id": "dgdTcHZjJXCg"
   },
   "source": [
    "### Checking the yield of the farm hourwise"
   ]
  },
  {
   "cell_type": "code",
   "execution_count": 28,
   "metadata": {
    "colab": {
     "base_uri": "https://localhost:8080/",
     "height": 279
    },
    "id": "W0oXWq7XYa9a",
    "outputId": "45a547d7-5ee5-42be-b2c8-00a91359fa31"
   },
   "outputs": [
    {
     "data": {
      "image/png": "[encoded data removed]",
      "text/plain": [
       "<Figure size 720x288 with 1 Axes>"
      ]
     },
     "metadata": {
      "needs_background": "light"
     },
     "output_type": "display_data"
    }
   ],
   "source": [
    "plt.figure(figsize=(10,4))\n",
    "sns.lineplot(x='hour',y='yield',data=fid_110884)\n",
    "plt.show()"
   ]
  },
  {
   "cell_type": "markdown",
   "metadata": {
    "id": "RQpUqr15JXCg"
   },
   "source": [
    "### Checking the yield of the farm based on cloudiness"
   ]
  },
  {
   "cell_type": "code",
   "execution_count": 29,
   "metadata": {
    "colab": {
     "base_uri": "https://localhost:8080/",
     "height": 282
    },
    "id": "P-w1K953am4j",
    "outputId": "daa26636-de44-44ac-84b4-6520598ad4fa"
   },
   "outputs": [
    {
     "data": {
      "image/png": "[encoded data removed]",
      "text/plain": [
       "<Figure size 720x288 with 1 Axes>"
      ]
     },
     "metadata": {
      "needs_background": "light"
     },
     "output_type": "display_data"
    }
   ],
   "source": [
    "plt.figure(figsize=(10,4))\n",
    "sns.lineplot(x='cloudiness',y='yield',data=fid_110884)\n",
    "plt.show()"
   ]
  },
  {
   "cell_type": "markdown",
   "metadata": {
    "id": "tpyQ9Es7JXCh"
   },
   "source": [
    "### statistics of numerical columns using describe"
   ]
  },
  {
   "cell_type": "code",
   "execution_count": 30,
   "metadata": {
    "colab": {
     "base_uri": "https://localhost:8080/",
     "height": 364
    },
    "id": "E1eZoS5mx9dV",
    "outputId": "26a62e06-7762-4c2f-a0df-8fd398dd932e"
   },
   "outputs": [
    {
     "data": {
      "text/html": [
       "\n",
       "  <div id=\"df-1a6b5ff9-1ffd-4059-9398-d3ed25eef176\">\n",
       "    <div class=\"colab-df-container\">\n",
       "      <div>\n",
       "<style scoped>\n",
       "    .dataframe tbody tr th:only-of-type {\n",
       "        vertical-align: middle;\n",
       "    }\n",
       "\n",
       "    .dataframe tbody tr th {\n",
       "        vertical-align: top;\n",
       "    }\n",
       "\n",
       "    .dataframe thead th {\n",
       "        text-align: right;\n",
       "    }\n",
       "</style>\n",
       "<table border=\"1\" class=\"dataframe\">\n",
       "  <thead>\n",
       "    <tr style=\"text-align: right;\">\n",
       "      <th></th>\n",
       "      <th>yield</th>\n",
       "      <th>temp_obs</th>\n",
       "      <th>cloudiness</th>\n",
       "      <th>wind_direction</th>\n",
       "      <th>dew_temp</th>\n",
       "      <th>pressure_sea_level</th>\n",
       "      <th>precipitation</th>\n",
       "      <th>wind_speed</th>\n",
       "      <th>hour</th>\n",
       "      <th>dayofweek</th>\n",
       "      <th>quarter</th>\n",
       "      <th>month</th>\n",
       "      <th>dayofyear</th>\n",
       "    </tr>\n",
       "  </thead>\n",
       "  <tbody>\n",
       "    <tr>\n",
       "      <th>count</th>\n",
       "      <td>8784.000000</td>\n",
       "      <td>8784.000000</td>\n",
       "      <td>8784.000000</td>\n",
       "      <td>8784.000000</td>\n",
       "      <td>8784.000000</td>\n",
       "      <td>8784.000000</td>\n",
       "      <td>8784.000000</td>\n",
       "      <td>8784.000000</td>\n",
       "      <td>8784.000000</td>\n",
       "      <td>8784.000000</td>\n",
       "      <td>8784.000000</td>\n",
       "      <td>8784.000000</td>\n",
       "      <td>8784.000000</td>\n",
       "    </tr>\n",
       "    <tr>\n",
       "      <th>mean</th>\n",
       "      <td>146.454978</td>\n",
       "      <td>22.833146</td>\n",
       "      <td>2.654240</td>\n",
       "      <td>157.178012</td>\n",
       "      <td>16.814646</td>\n",
       "      <td>1017.970666</td>\n",
       "      <td>1.382512</td>\n",
       "      <td>3.375114</td>\n",
       "      <td>11.500000</td>\n",
       "      <td>3.008197</td>\n",
       "      <td>2.505464</td>\n",
       "      <td>6.513661</td>\n",
       "      <td>183.500000</td>\n",
       "    </tr>\n",
       "    <tr>\n",
       "      <th>std</th>\n",
       "      <td>121.897171</td>\n",
       "      <td>6.038390</td>\n",
       "      <td>1.651891</td>\n",
       "      <td>116.716522</td>\n",
       "      <td>6.520608</td>\n",
       "      <td>4.020604</td>\n",
       "      <td>12.956196</td>\n",
       "      <td>2.154266</td>\n",
       "      <td>6.922581</td>\n",
       "      <td>1.998047</td>\n",
       "      <td>1.118084</td>\n",
       "      <td>3.451430</td>\n",
       "      <td>105.660719</td>\n",
       "    </tr>\n",
       "    <tr>\n",
       "      <th>min</th>\n",
       "      <td>0.000000</td>\n",
       "      <td>1.700000</td>\n",
       "      <td>0.000000</td>\n",
       "      <td>0.000000</td>\n",
       "      <td>-9.400000</td>\n",
       "      <td>992.000000</td>\n",
       "      <td>-1.000000</td>\n",
       "      <td>0.000000</td>\n",
       "      <td>0.000000</td>\n",
       "      <td>0.000000</td>\n",
       "      <td>1.000000</td>\n",
       "      <td>1.000000</td>\n",
       "      <td>1.000000</td>\n",
       "    </tr>\n",
       "    <tr>\n",
       "      <th>25%</th>\n",
       "      <td>0.000000</td>\n",
       "      <td>18.900000</td>\n",
       "      <td>2.000000</td>\n",
       "      <td>60.000000</td>\n",
       "      <td>13.300000</td>\n",
       "      <td>1015.500000</td>\n",
       "      <td>0.000000</td>\n",
       "      <td>2.100000</td>\n",
       "      <td>5.750000</td>\n",
       "      <td>1.000000</td>\n",
       "      <td>2.000000</td>\n",
       "      <td>4.000000</td>\n",
       "      <td>92.000000</td>\n",
       "    </tr>\n",
       "    <tr>\n",
       "      <th>50%</th>\n",
       "      <td>189.752000</td>\n",
       "      <td>23.900000</td>\n",
       "      <td>2.149306</td>\n",
       "      <td>150.000000</td>\n",
       "      <td>18.300000</td>\n",
       "      <td>1017.900000</td>\n",
       "      <td>0.000000</td>\n",
       "      <td>3.100000</td>\n",
       "      <td>11.500000</td>\n",
       "      <td>3.000000</td>\n",
       "      <td>3.000000</td>\n",
       "      <td>7.000000</td>\n",
       "      <td>183.500000</td>\n",
       "    </tr>\n",
       "    <tr>\n",
       "      <th>75%</th>\n",
       "      <td>246.404000</td>\n",
       "      <td>26.700000</td>\n",
       "      <td>4.000000</td>\n",
       "      <td>260.000000</td>\n",
       "      <td>22.200000</td>\n",
       "      <td>1020.500000</td>\n",
       "      <td>0.000000</td>\n",
       "      <td>4.600000</td>\n",
       "      <td>17.250000</td>\n",
       "      <td>5.000000</td>\n",
       "      <td>4.000000</td>\n",
       "      <td>10.000000</td>\n",
       "      <td>275.000000</td>\n",
       "    </tr>\n",
       "    <tr>\n",
       "      <th>max</th>\n",
       "      <td>448.000000</td>\n",
       "      <td>36.100000</td>\n",
       "      <td>9.000000</td>\n",
       "      <td>360.000000</td>\n",
       "      <td>25.600000</td>\n",
       "      <td>1030.200000</td>\n",
       "      <td>343.000000</td>\n",
       "      <td>15.400000</td>\n",
       "      <td>23.000000</td>\n",
       "      <td>6.000000</td>\n",
       "      <td>4.000000</td>\n",
       "      <td>12.000000</td>\n",
       "      <td>366.000000</td>\n",
       "    </tr>\n",
       "  </tbody>\n",
       "</table>\n",
       "</div>\n",
       "      <button class=\"colab-df-convert\" onclick=\"convertToInteractive('df-1a6b5ff9-1ffd-4059-9398-d3ed25eef176')\"\n",
       "              title=\"Convert this dataframe to an interactive table.\"\n",
       "              style=\"display:none;\">\n",
       "        \n",
       "  <svg xmlns=\"http://www.w3.org/2000/svg\" height=\"24px\"viewBox=\"0 0 24 24\"\n",
       "       width=\"24px\">\n",
       "    <path d=\"M0 0h24v24H0V0z\" fill=\"none\"/>\n",
       "    <path d=\"M18.56 5.44l.94 2.06.94-2.06 2.06-.94-2.06-.94-.94-2.06-.94 2.06-2.06.94zm-11 1L8.5 8.5l.94-2.06 2.06-.94-2.06-.94L8.5 2.5l-.94 2.06-2.06.94zm10 10l.94 2.06.94-2.06 2.06-.94-2.06-.94-.94-2.06-.94 2.06-2.06.94z\"/><path d=\"M17.41 7.96l-1.37-1.37c-.4-.4-.92-.59-1.43-.59-.52 0-1.04.2-1.43.59L10.3 9.45l-7.72 7.72c-.78.78-.78 2.05 0 2.83L4 21.41c.39.39.9.59 1.41.59.51 0 1.02-.2 1.41-.59l7.78-7.78 2.81-2.81c.8-.78.8-2.07 0-2.86zM5.41 20L4 18.59l7.72-7.72 1.47 1.35L5.41 20z\"/>\n",
       "  </svg>\n",
       "      </button>\n",
       "      \n",
       "  <style>\n",
       "    .colab-df-container {\n",
       "      display:flex;\n",
       "      flex-wrap:wrap;\n",
       "      gap: 12px;\n",
       "    }\n",
       "\n",
       "    .colab-df-convert {\n",
       "      background-color: #E8F0FE;\n",
       "      border: none;\n",
       "      border-radius: 50%;\n",
       "      cursor: pointer;\n",
       "      display: none;\n",
       "      fill: #1967D2;\n",
       "      height: 32px;\n",
       "      padding: 0 0 0 0;\n",
       "      width: 32px;\n",
       "    }\n",
       "\n",
       "    .colab-df-convert:hover {\n",
       "      background-color: #E2EBFA;\n",
       "      box-shadow: 0px 1px 2px rgba(60, 64, 67, 0.3), 0px 1px 3px 1px rgba(60, 64, 67, 0.15);\n",
       "      fill: #174EA6;\n",
       "    }\n",
       "\n",
       "    [theme=dark] .colab-df-convert {\n",
       "      background-color: #3B4455;\n",
       "      fill: #D2E3FC;\n",
       "    }\n",
       "\n",
       "    [theme=dark] .colab-df-convert:hover {\n",
       "      background-color: #434B5C;\n",
       "      box-shadow: 0px 1px 3px 1px rgba(0, 0, 0, 0.15);\n",
       "      filter: drop-shadow(0px 1px 2px rgba(0, 0, 0, 0.3));\n",
       "      fill: #FFFFFF;\n",
       "    }\n",
       "  </style>\n",
       "\n",
       "      <script>\n",
       "        const buttonEl =\n",
       "          document.querySelector('#df-1a6b5ff9-1ffd-4059-9398-d3ed25eef176 button.colab-df-convert');\n",
       "        buttonEl.style.display =\n",
       "          google.colab.kernel.accessAllowed ? 'block' : 'none';\n",
       "\n",
       "        async function convertToInteractive(key) {\n",
       "          const element = document.querySelector('#df-1a6b5ff9-1ffd-4059-9398-d3ed25eef176');\n",
       "          const dataTable =\n",
       "            await google.colab.kernel.invokeFunction('convertToInteractive',\n",
       "                                                     [key], {});\n",
       "          if (!dataTable) return;\n",
       "\n",
       "          const docLinkHtml = 'Like what you see? Visit the ' +\n",
       "            '<a target=\"_blank\" href=https://colab.research.google.com/notebooks/data_table.ipynb>data table notebook</a>'\n",
       "            + ' to learn more about interactive tables.';\n",
       "          element.innerHTML = '';\n",
       "          dataTable['output_type'] = 'display_data';\n",
       "          await google.colab.output.renderOutput(dataTable, element);\n",
       "          const docLink = document.createElement('div');\n",
       "          docLink.innerHTML = docLinkHtml;\n",
       "          element.appendChild(docLink);\n",
       "        }\n",
       "      </script>\n",
       "    </div>\n",
       "  </div>\n",
       "  "
      ],
      "text/plain": [
       "             yield     temp_obs   cloudiness  wind_direction     dew_temp  \\\n",
       "count  8784.000000  8784.000000  8784.000000     8784.000000  8784.000000   \n",
       "mean    146.454978    22.833146     2.654240      157.178012    16.814646   \n",
       "std     121.897171     6.038390     1.651891      116.716522     6.520608   \n",
       "min       0.000000     1.700000     0.000000        0.000000    -9.400000   \n",
       "25%       0.000000    18.900000     2.000000       60.000000    13.300000   \n",
       "50%     189.752000    23.900000     2.149306      150.000000    18.300000   \n",
       "75%     246.404000    26.700000     4.000000      260.000000    22.200000   \n",
       "max     448.000000    36.100000     9.000000      360.000000    25.600000   \n",
       "\n",
       "       pressure_sea_level  precipitation   wind_speed         hour  \\\n",
       "count         8784.000000    8784.000000  8784.000000  8784.000000   \n",
       "mean          1017.970666       1.382512     3.375114    11.500000   \n",
       "std              4.020604      12.956196     2.154266     6.922581   \n",
       "min            992.000000      -1.000000     0.000000     0.000000   \n",
       "25%           1015.500000       0.000000     2.100000     5.750000   \n",
       "50%           1017.900000       0.000000     3.100000    11.500000   \n",
       "75%           1020.500000       0.000000     4.600000    17.250000   \n",
       "max           1030.200000     343.000000    15.400000    23.000000   \n",
       "\n",
       "         dayofweek      quarter        month    dayofyear  \n",
       "count  8784.000000  8784.000000  8784.000000  8784.000000  \n",
       "mean      3.008197     2.505464     6.513661   183.500000  \n",
       "std       1.998047     1.118084     3.451430   105.660719  \n",
       "min       0.000000     1.000000     1.000000     1.000000  \n",
       "25%       1.000000     2.000000     4.000000    92.000000  \n",
       "50%       3.000000     3.000000     7.000000   183.500000  \n",
       "75%       5.000000     4.000000    10.000000   275.000000  \n",
       "max       6.000000     4.000000    12.000000   366.000000  "
      ]
     },
     "execution_count": 30,
     "metadata": {},
     "output_type": "execute_result"
    }
   ],
   "source": [
    "fid_110884.describe()"
   ]
  },
  {
   "cell_type": "markdown",
   "metadata": {
    "id": "zo0INuZwJXCh"
   },
   "source": [
    "### Observing the temperature change based on the working hours of farm"
   ]
  },
  {
   "cell_type": "code",
   "execution_count": 31,
   "metadata": {
    "colab": {
     "base_uri": "https://localhost:8080/",
     "height": 279
    },
    "id": "lMLU3mGDXbeY",
    "outputId": "39a21e76-5f32-45cb-e254-c0a1d9277919"
   },
   "outputs": [
    {
     "data": {
      "image/png": "[encoded data removed]",
      "text/plain": [
       "<Figure size 720x288 with 1 Axes>"
      ]
     },
     "metadata": {
      "needs_background": "light"
     },
     "output_type": "display_data"
    }
   ],
   "source": [
    "plt.figure(figsize=(10,4))\n",
    "sns.lineplot(x='hour',y='temp_obs',data=fid_110884)\n",
    "plt.show()"
   ]
  },
  {
   "cell_type": "markdown",
   "metadata": {
    "id": "qbahCZ4_JXCh"
   },
   "source": [
    "### observing the temperature change based on the different time quarters"
   ]
  },
  {
   "cell_type": "code",
   "execution_count": 32,
   "metadata": {
    "colab": {
     "base_uri": "https://localhost:8080/",
     "height": 279
    },
    "id": "a-sggEqeY5KQ",
    "outputId": "73196e3e-b884-4e4e-8186-51292dead5b9"
   },
   "outputs": [
    {
     "data": {
      "image/png": "[encoded data removed]",
      "text/plain": [
       "<Figure size 720x288 with 1 Axes>"
      ]
     },
     "metadata": {
      "needs_background": "light"
     },
     "output_type": "display_data"
    }
   ],
   "source": [
    "plt.figure(figsize=(10,4))\n",
    "sns.lineplot(x='quarter',y='temp_obs',data=fid_110884)\n",
    "plt.show()"
   ]
  },
  {
   "cell_type": "markdown",
   "metadata": {
    "id": "plk2-jmAJXCh"
   },
   "source": [
    "### Observing the temp change based on the day of the week"
   ]
  },
  {
   "cell_type": "code",
   "execution_count": 33,
   "metadata": {
    "colab": {
     "base_uri": "https://localhost:8080/",
     "height": 281
    },
    "id": "JUgHtHlUZpCd",
    "outputId": "beb2422a-6de0-457f-e9a0-57c33338dcb5"
   },
   "outputs": [
    {
     "data": {
      "image/png": "[encoded data removed]",
      "text/plain": [
       "<Figure size 720x288 with 1 Axes>"
      ]
     },
     "metadata": {
      "needs_background": "light"
     },
     "output_type": "display_data"
    }
   ],
   "source": [
    "plt.figure(figsize=(10,4))\n",
    "sns.lineplot(x='dayofweek',y='temp_obs',data=fid_110884)\n",
    "plt.show()"
   ]
  },
  {
   "cell_type": "markdown",
   "metadata": {
    "id": "32mCgxjPJXCi"
   },
   "source": [
    "### observing the temperature change based on different months"
   ]
  },
  {
   "cell_type": "code",
   "execution_count": 34,
   "metadata": {
    "colab": {
     "base_uri": "https://localhost:8080/",
     "height": 279
    },
    "id": "sQNNOa-iZ28Q",
    "outputId": "ef6bce43-1672-4c9f-afe6-24c18d9001d4"
   },
   "outputs": [
    {
     "data": {
      "image/png": "[encoded data removed]",
      "text/plain": [
       "<Figure size 720x288 with 1 Axes>"
      ]
     },
     "metadata": {
      "needs_background": "light"
     },
     "output_type": "display_data"
    }
   ],
   "source": [
    "plt.figure(figsize=(10,4))\n",
    "sns.lineplot(x='month',y='temp_obs',data=fid_110884)\n",
    "plt.show()"
   ]
  },
  {
   "cell_type": "markdown",
   "metadata": {
    "id": "6ME5EUP9JXCi"
   },
   "source": [
    "### Seeing the columns present in the farm"
   ]
  },
  {
   "cell_type": "code",
   "execution_count": 35,
   "metadata": {
    "colab": {
     "base_uri": "https://localhost:8080/"
    },
    "id": "VW9YnbBUaaH9",
    "outputId": "3d75552e-f4da-4e34-a852-94300f2e7879"
   },
   "outputs": [
    {
     "data": {
      "text/plain": [
       "Index(['yield', 'temp_obs', 'cloudiness', 'wind_direction', 'dew_temp',\n",
       "       'pressure_sea_level', 'precipitation', 'wind_speed', 'hour',\n",
       "       'dayofweek', 'quarter', 'month', 'dayofyear'],\n",
       "      dtype='object')"
      ]
     },
     "execution_count": 35,
     "metadata": {},
     "output_type": "execute_result"
    }
   ],
   "source": [
    "fid_110884.columns"
   ]
  },
  {
   "cell_type": "markdown",
   "metadata": {
    "id": "Lf33dSKeJXCi"
   },
   "source": [
    "### Observing the yield production  of farm based on time"
   ]
  },
  {
   "cell_type": "code",
   "execution_count": 36,
   "metadata": {
    "colab": {
     "base_uri": "https://localhost:8080/",
     "height": 634
    },
    "id": "19BDZbLsi6uF",
    "outputId": "ce435f5f-dc0e-4092-bdc3-404cbae279b0"
   },
   "outputs": [
    {
     "data": {
      "text/plain": [
       "<AxesSubplot:xlabel='date'>"
      ]
     },
     "execution_count": 36,
     "metadata": {},
     "output_type": "execute_result"
    },
    {
     "data": {
      "image/png": "[encoded data removed]",
      "text/plain": [
       "<Figure size 1440x720 with 1 Axes>"
      ]
     },
     "metadata": {
      "needs_background": "light"
     },
     "output_type": "display_data"
    }
   ],
   "source": [
    "fid_110884['yield'].plot(figsize=(20,10))"
   ]
  },
  {
   "cell_type": "markdown",
   "metadata": {
    "id": "peMcu2_lJXCj"
   },
   "source": [
    "### As per plot  the yield of fid_110884 has started increasing from 5th month"
   ]
  },
  {
   "cell_type": "markdown",
   "metadata": {
    "id": "NAWVbA4NJXCj"
   },
   "source": [
    "### Checking the stationarity of the data using adfuller test"
   ]
  },
  {
   "cell_type": "code",
   "execution_count": 37,
   "metadata": {
    "colab": {
     "base_uri": "https://localhost:8080/"
    },
    "id": "TpnCsKsqd_-T",
    "outputId": "a51a27b1-a699-4a95-c53f-6549aa0034ce"
   },
   "outputs": [
    {
     "name": "stdout",
     "output_type": "stream",
     "text": [
      "yield - Series is not Stationary\n",
      "temp_obs - Series is Stationary\n",
      "cloudiness - Series is Stationary\n",
      "wind_direction - Series is Stationary\n",
      "dew_temp - Series is Stationary\n",
      "pressure_sea_level - Series is Stationary\n",
      "precipitation - Series is Stationary\n",
      "wind_speed - Series is Stationary\n",
      "hour - Series is Stationary\n",
      "dayofweek - Series is Stationary\n",
      "quarter - Series is not Stationary\n",
      "month - Series is not Stationary\n",
      "dayofyear - Series is Stationary\n"
     ]
    }
   ],
   "source": [
    "from statsmodels.tsa.stattools import adfuller\n",
    "for i in range(len(fid_110884.columns)):\n",
    "  result = adfuller(fid_110884[fid_110884.columns[i]])\n",
    "\n",
    "  \n",
    "  if result[1] > 0.05 :\n",
    "    print('{} - Series is not Stationary'.format(fid_110884.columns[i]))\n",
    "  else:\n",
    "    print('{} - Series is Stationary'.format(fid_110884.columns[i]))"
   ]
  },
  {
   "cell_type": "markdown",
   "metadata": {
    "id": "5732UkCZJXCj"
   },
   "source": [
    "### From the above result and plot the yield is not stationary so we need to make it stationary by using differencing or any other techniques beacause when the data is stationary then the model will capture the patterns easily"
   ]
  },
  {
   "cell_type": "code",
   "execution_count": 38,
   "metadata": {
    "colab": {
     "base_uri": "https://localhost:8080/"
    },
    "id": "eJzeq8c1wEbk",
    "outputId": "7f9f7d1a-4c60-4a4a-c455-7062cbf1f195"
   },
   "outputs": [
    {
     "name": "stdout",
     "output_type": "stream",
     "text": [
      "realyield\n",
      "ADF Statistic: -22.60049472706564\n",
      "p-value: 0.0\n"
     ]
    }
   ],
   "source": [
    "ad_fuller_result_1 = adfuller(fid_110884['yield'].diff()[1:])\n",
    "\n",
    "print('realyield')\n",
    "print(f'ADF Statistic: {ad_fuller_result_1[0]}')\n",
    "print(f'p-value: {ad_fuller_result_1[1]}')"
   ]
  },
  {
   "cell_type": "markdown",
   "metadata": {
    "id": "9jzHukFHJXCj"
   },
   "source": [
    "### Making the yield data stationary and storing it in one varaible"
   ]
  },
  {
   "cell_type": "code",
   "execution_count": 39,
   "metadata": {
    "colab": {
     "base_uri": "https://localhost:8080/"
    },
    "id": "3A78oiMyghGQ",
    "outputId": "d6bf97af-7b64-4692-bfd8-b5452fd419aa"
   },
   "outputs": [
    {
     "name": "stderr",
     "output_type": "stream",
     "text": [
      "<ipython-input-39-f419c273fd95>:1: SettingWithCopyWarning: \n",
      "A value is trying to be set on a copy of a slice from a DataFrame.\n",
      "Try using .loc[row_indexer,col_indexer] = value instead\n",
      "\n",
      "See the caveats in the documentation: https://pandas.pydata.org/pandas-docs/stable/user_guide/indexing.html#returning-a-view-versus-a-copy\n",
      "  fid_110884['yield first difference']=fid_110884['yield']-fid_110884['yield'].shift(1)\n"
     ]
    }
   ],
   "source": [
    "fid_110884['yield first difference']=fid_110884['yield']-fid_110884['yield'].shift(1)"
   ]
  },
  {
   "cell_type": "code",
   "execution_count": 40,
   "metadata": {
    "colab": {
     "base_uri": "https://localhost:8080/",
     "height": 509
    },
    "id": "_p0wzpi8iZr-",
    "outputId": "514835fc-9f5e-45e9-dbf9-37a89bf87974"
   },
   "outputs": [
    {
     "data": {
      "text/html": [
       "\n",
       "  <div id=\"df-f865cde1-2464-46ac-804b-c73e20ee4af9\">\n",
       "    <div class=\"colab-df-container\">\n",
       "      <div>\n",
       "<style scoped>\n",
       "    .dataframe tbody tr th:only-of-type {\n",
       "        vertical-align: middle;\n",
       "    }\n",
       "\n",
       "    .dataframe tbody tr th {\n",
       "        vertical-align: top;\n",
       "    }\n",
       "\n",
       "    .dataframe thead th {\n",
       "        text-align: right;\n",
       "    }\n",
       "</style>\n",
       "<table border=\"1\" class=\"dataframe\">\n",
       "  <thead>\n",
       "    <tr style=\"text-align: right;\">\n",
       "      <th></th>\n",
       "      <th>yield</th>\n",
       "      <th>temp_obs</th>\n",
       "      <th>cloudiness</th>\n",
       "      <th>wind_direction</th>\n",
       "      <th>dew_temp</th>\n",
       "      <th>pressure_sea_level</th>\n",
       "      <th>precipitation</th>\n",
       "      <th>wind_speed</th>\n",
       "      <th>hour</th>\n",
       "      <th>dayofweek</th>\n",
       "      <th>quarter</th>\n",
       "      <th>month</th>\n",
       "      <th>dayofyear</th>\n",
       "      <th>yield first difference</th>\n",
       "    </tr>\n",
       "    <tr>\n",
       "      <th>date</th>\n",
       "      <th></th>\n",
       "      <th></th>\n",
       "      <th></th>\n",
       "      <th></th>\n",
       "      <th></th>\n",
       "      <th></th>\n",
       "      <th></th>\n",
       "      <th></th>\n",
       "      <th></th>\n",
       "      <th></th>\n",
       "      <th></th>\n",
       "      <th></th>\n",
       "      <th></th>\n",
       "      <th></th>\n",
       "    </tr>\n",
       "  </thead>\n",
       "  <tbody>\n",
       "    <tr>\n",
       "      <th>2016-01-01 00:00:00</th>\n",
       "      <td>0.0</td>\n",
       "      <td>25.0</td>\n",
       "      <td>6.000000</td>\n",
       "      <td>0.0</td>\n",
       "      <td>20.0</td>\n",
       "      <td>1019.7</td>\n",
       "      <td>0.983047</td>\n",
       "      <td>0.0</td>\n",
       "      <td>0</td>\n",
       "      <td>4</td>\n",
       "      <td>1</td>\n",
       "      <td>1</td>\n",
       "      <td>1</td>\n",
       "      <td>NaN</td>\n",
       "    </tr>\n",
       "    <tr>\n",
       "      <th>2016-01-01 01:00:00</th>\n",
       "      <td>0.0</td>\n",
       "      <td>24.4</td>\n",
       "      <td>2.149306</td>\n",
       "      <td>70.0</td>\n",
       "      <td>21.1</td>\n",
       "      <td>1020.2</td>\n",
       "      <td>-1.000000</td>\n",
       "      <td>1.5</td>\n",
       "      <td>1</td>\n",
       "      <td>4</td>\n",
       "      <td>1</td>\n",
       "      <td>1</td>\n",
       "      <td>1</td>\n",
       "      <td>0.0</td>\n",
       "    </tr>\n",
       "    <tr>\n",
       "      <th>2016-01-01 02:00:00</th>\n",
       "      <td>0.0</td>\n",
       "      <td>22.8</td>\n",
       "      <td>2.000000</td>\n",
       "      <td>0.0</td>\n",
       "      <td>21.1</td>\n",
       "      <td>1020.2</td>\n",
       "      <td>0.000000</td>\n",
       "      <td>0.0</td>\n",
       "      <td>2</td>\n",
       "      <td>4</td>\n",
       "      <td>1</td>\n",
       "      <td>1</td>\n",
       "      <td>1</td>\n",
       "      <td>0.0</td>\n",
       "    </tr>\n",
       "    <tr>\n",
       "      <th>2016-01-01 03:00:00</th>\n",
       "      <td>0.0</td>\n",
       "      <td>21.1</td>\n",
       "      <td>2.000000</td>\n",
       "      <td>0.0</td>\n",
       "      <td>20.6</td>\n",
       "      <td>1020.1</td>\n",
       "      <td>0.000000</td>\n",
       "      <td>0.0</td>\n",
       "      <td>3</td>\n",
       "      <td>4</td>\n",
       "      <td>1</td>\n",
       "      <td>1</td>\n",
       "      <td>1</td>\n",
       "      <td>0.0</td>\n",
       "    </tr>\n",
       "    <tr>\n",
       "      <th>2016-01-01 04:00:00</th>\n",
       "      <td>0.0</td>\n",
       "      <td>20.0</td>\n",
       "      <td>2.000000</td>\n",
       "      <td>250.0</td>\n",
       "      <td>20.0</td>\n",
       "      <td>1020.0</td>\n",
       "      <td>-1.000000</td>\n",
       "      <td>2.6</td>\n",
       "      <td>4</td>\n",
       "      <td>4</td>\n",
       "      <td>1</td>\n",
       "      <td>1</td>\n",
       "      <td>1</td>\n",
       "      <td>0.0</td>\n",
       "    </tr>\n",
       "  </tbody>\n",
       "</table>\n",
       "</div>\n",
       "      <button class=\"colab-df-convert\" onclick=\"convertToInteractive('df-f865cde1-2464-46ac-804b-c73e20ee4af9')\"\n",
       "              title=\"Convert this dataframe to an interactive table.\"\n",
       "              style=\"display:none;\">\n",
       "        \n",
       "  <svg xmlns=\"http://www.w3.org/2000/svg\" height=\"24px\"viewBox=\"0 0 24 24\"\n",
       "       width=\"24px\">\n",
       "    <path d=\"M0 0h24v24H0V0z\" fill=\"none\"/>\n",
       "    <path d=\"M18.56 5.44l.94 2.06.94-2.06 2.06-.94-2.06-.94-.94-2.06-.94 2.06-2.06.94zm-11 1L8.5 8.5l.94-2.06 2.06-.94-2.06-.94L8.5 2.5l-.94 2.06-2.06.94zm10 10l.94 2.06.94-2.06 2.06-.94-2.06-.94-.94-2.06-.94 2.06-2.06.94z\"/><path d=\"M17.41 7.96l-1.37-1.37c-.4-.4-.92-.59-1.43-.59-.52 0-1.04.2-1.43.59L10.3 9.45l-7.72 7.72c-.78.78-.78 2.05 0 2.83L4 21.41c.39.39.9.59 1.41.59.51 0 1.02-.2 1.41-.59l7.78-7.78 2.81-2.81c.8-.78.8-2.07 0-2.86zM5.41 20L4 18.59l7.72-7.72 1.47 1.35L5.41 20z\"/>\n",
       "  </svg>\n",
       "      </button>\n",
       "      \n",
       "  <style>\n",
       "    .colab-df-container {\n",
       "      display:flex;\n",
       "      flex-wrap:wrap;\n",
       "      gap: 12px;\n",
       "    }\n",
       "\n",
       "    .colab-df-convert {\n",
       "      background-color: #E8F0FE;\n",
       "      border: none;\n",
       "      border-radius: 50%;\n",
       "      cursor: pointer;\n",
       "      display: none;\n",
       "      fill: #1967D2;\n",
       "      height: 32px;\n",
       "      padding: 0 0 0 0;\n",
       "      width: 32px;\n",
       "    }\n",
       "\n",
       "    .colab-df-convert:hover {\n",
       "      background-color: #E2EBFA;\n",
       "      box-shadow: 0px 1px 2px rgba(60, 64, 67, 0.3), 0px 1px 3px 1px rgba(60, 64, 67, 0.15);\n",
       "      fill: #174EA6;\n",
       "    }\n",
       "\n",
       "    [theme=dark] .colab-df-convert {\n",
       "      background-color: #3B4455;\n",
       "      fill: #D2E3FC;\n",
       "    }\n",
       "\n",
       "    [theme=dark] .colab-df-convert:hover {\n",
       "      background-color: #434B5C;\n",
       "      box-shadow: 0px 1px 3px 1px rgba(0, 0, 0, 0.15);\n",
       "      filter: drop-shadow(0px 1px 2px rgba(0, 0, 0, 0.3));\n",
       "      fill: #FFFFFF;\n",
       "    }\n",
       "  </style>\n",
       "\n",
       "      <script>\n",
       "        const buttonEl =\n",
       "          document.querySelector('#df-f865cde1-2464-46ac-804b-c73e20ee4af9 button.colab-df-convert');\n",
       "        buttonEl.style.display =\n",
       "          google.colab.kernel.accessAllowed ? 'block' : 'none';\n",
       "\n",
       "        async function convertToInteractive(key) {\n",
       "          const element = document.querySelector('#df-f865cde1-2464-46ac-804b-c73e20ee4af9');\n",
       "          const dataTable =\n",
       "            await google.colab.kernel.invokeFunction('convertToInteractive',\n",
       "                                                     [key], {});\n",
       "          if (!dataTable) return;\n",
       "\n",
       "          const docLinkHtml = 'Like what you see? Visit the ' +\n",
       "            '<a target=\"_blank\" href=https://colab.research.google.com/notebooks/data_table.ipynb>data table notebook</a>'\n",
       "            + ' to learn more about interactive tables.';\n",
       "          element.innerHTML = '';\n",
       "          dataTable['output_type'] = 'display_data';\n",
       "          await google.colab.output.renderOutput(dataTable, element);\n",
       "          const docLink = document.createElement('div');\n",
       "          docLink.innerHTML = docLinkHtml;\n",
       "          element.appendChild(docLink);\n",
       "        }\n",
       "      </script>\n",
       "    </div>\n",
       "  </div>\n",
       "  "
      ],
      "text/plain": [
       "                     yield  temp_obs  cloudiness  wind_direction  dew_temp  \\\n",
       "date                                                                         \n",
       "2016-01-01 00:00:00    0.0      25.0    6.000000             0.0      20.0   \n",
       "2016-01-01 01:00:00    0.0      24.4    2.149306            70.0      21.1   \n",
       "2016-01-01 02:00:00    0.0      22.8    2.000000             0.0      21.1   \n",
       "2016-01-01 03:00:00    0.0      21.1    2.000000             0.0      20.6   \n",
       "2016-01-01 04:00:00    0.0      20.0    2.000000           250.0      20.0   \n",
       "\n",
       "                     pressure_sea_level  precipitation  wind_speed  hour  \\\n",
       "date                                                                       \n",
       "2016-01-01 00:00:00              1019.7       0.983047         0.0     0   \n",
       "2016-01-01 01:00:00              1020.2      -1.000000         1.5     1   \n",
       "2016-01-01 02:00:00              1020.2       0.000000         0.0     2   \n",
       "2016-01-01 03:00:00              1020.1       0.000000         0.0     3   \n",
       "2016-01-01 04:00:00              1020.0      -1.000000         2.6     4   \n",
       "\n",
       "                     dayofweek  quarter  month  dayofyear  \\\n",
       "date                                                        \n",
       "2016-01-01 00:00:00          4        1      1          1   \n",
       "2016-01-01 01:00:00          4        1      1          1   \n",
       "2016-01-01 02:00:00          4        1      1          1   \n",
       "2016-01-01 03:00:00          4        1      1          1   \n",
       "2016-01-01 04:00:00          4        1      1          1   \n",
       "\n",
       "                     yield first difference  \n",
       "date                                         \n",
       "2016-01-01 00:00:00                     NaN  \n",
       "2016-01-01 01:00:00                     0.0  \n",
       "2016-01-01 02:00:00                     0.0  \n",
       "2016-01-01 03:00:00                     0.0  \n",
       "2016-01-01 04:00:00                     0.0  "
      ]
     },
     "execution_count": 40,
     "metadata": {},
     "output_type": "execute_result"
    }
   ],
   "source": [
    "fid_110884.head()"
   ]
  },
  {
   "cell_type": "markdown",
   "metadata": {
    "id": "Ns2foxy7JXCj"
   },
   "source": [
    "### Checking the stationarity of the yield data after differencing"
   ]
  },
  {
   "cell_type": "code",
   "execution_count": 41,
   "metadata": {
    "colab": {
     "base_uri": "https://localhost:8080/",
     "height": 631
    },
    "id": "n1vGA7Voh0To",
    "outputId": "d9890ad3-cc3b-489f-a019-72582d4c76f5"
   },
   "outputs": [
    {
     "data": {
      "text/plain": [
       "<AxesSubplot:xlabel='date'>"
      ]
     },
     "execution_count": 41,
     "metadata": {},
     "output_type": "execute_result"
    },
    {
     "data": {
      "image/png": "[encoded data removed]",
      "text/plain": [
       "<Figure size 1440x720 with 1 Axes>"
      ]
     },
     "metadata": {
      "needs_background": "light"
     },
     "output_type": "display_data"
    }
   ],
   "source": [
    "fid_110884['yield first difference'].plot(figsize=(20,10))"
   ]
  },
  {
   "cell_type": "markdown",
   "metadata": {
    "id": "lH3BpSjzJXCk"
   },
   "source": [
    "### Checking the stationarity of temp_obs column"
   ]
  },
  {
   "cell_type": "code",
   "execution_count": 42,
   "metadata": {
    "colab": {
     "base_uri": "https://localhost:8080/",
     "height": 634
    },
    "id": "FHIS2WFVjLCG",
    "outputId": "11c5b06f-05a1-4d70-b5ce-e23c3af16ab3"
   },
   "outputs": [
    {
     "data": {
      "text/plain": [
       "<AxesSubplot:xlabel='date'>"
      ]
     },
     "execution_count": 42,
     "metadata": {},
     "output_type": "execute_result"
    },
    {
     "data": {
      "image/png": "[encoded data removed]",
      "text/plain": [
       "<Figure size 1440x720 with 1 Axes>"
      ]
     },
     "metadata": {
      "needs_background": "light"
     },
     "output_type": "display_data"
    }
   ],
   "source": [
    "fid_110884['temp_obs'].plot(figsize=(20,10))"
   ]
  },
  {
   "cell_type": "markdown",
   "metadata": {
    "id": "dB0dPtyYJXCk"
   },
   "source": [
    "### Dropping the created features to build model on time series data"
   ]
  },
  {
   "cell_type": "code",
   "execution_count": 43,
   "metadata": {
    "id": "PGCZ2eWapr2R"
   },
   "outputs": [],
   "source": [
    "fid_110884_1 = fid_110884.drop(['quarter','month','hour','dayofweek','dayofyear'],axis=1)"
   ]
  },
  {
   "cell_type": "code",
   "execution_count": 44,
   "metadata": {
    "colab": {
     "base_uri": "https://localhost:8080/",
     "height": 237
    },
    "id": "i3SERRugrcVD",
    "outputId": "4907f165-abc0-4201-ff6c-fe78457a55f6"
   },
   "outputs": [
    {
     "data": {
      "text/html": [
       "\n",
       "  <div id=\"df-bd62a009-6a4e-463e-98cb-29d2b759790b\">\n",
       "    <div class=\"colab-df-container\">\n",
       "      <div>\n",
       "<style scoped>\n",
       "    .dataframe tbody tr th:only-of-type {\n",
       "        vertical-align: middle;\n",
       "    }\n",
       "\n",
       "    .dataframe tbody tr th {\n",
       "        vertical-align: top;\n",
       "    }\n",
       "\n",
       "    .dataframe thead th {\n",
       "        text-align: right;\n",
       "    }\n",
       "</style>\n",
       "<table border=\"1\" class=\"dataframe\">\n",
       "  <thead>\n",
       "    <tr style=\"text-align: right;\">\n",
       "      <th></th>\n",
       "      <th>yield</th>\n",
       "      <th>temp_obs</th>\n",
       "      <th>cloudiness</th>\n",
       "      <th>wind_direction</th>\n",
       "      <th>dew_temp</th>\n",
       "      <th>pressure_sea_level</th>\n",
       "      <th>precipitation</th>\n",
       "      <th>wind_speed</th>\n",
       "      <th>yield first difference</th>\n",
       "    </tr>\n",
       "    <tr>\n",
       "      <th>date</th>\n",
       "      <th></th>\n",
       "      <th></th>\n",
       "      <th></th>\n",
       "      <th></th>\n",
       "      <th></th>\n",
       "      <th></th>\n",
       "      <th></th>\n",
       "      <th></th>\n",
       "      <th></th>\n",
       "    </tr>\n",
       "  </thead>\n",
       "  <tbody>\n",
       "    <tr>\n",
       "      <th>2016-01-01 00:00:00</th>\n",
       "      <td>0.0</td>\n",
       "      <td>25.0</td>\n",
       "      <td>6.000000</td>\n",
       "      <td>0.0</td>\n",
       "      <td>20.0</td>\n",
       "      <td>1019.7</td>\n",
       "      <td>0.983047</td>\n",
       "      <td>0.0</td>\n",
       "      <td>NaN</td>\n",
       "    </tr>\n",
       "    <tr>\n",
       "      <th>2016-01-01 01:00:00</th>\n",
       "      <td>0.0</td>\n",
       "      <td>24.4</td>\n",
       "      <td>2.149306</td>\n",
       "      <td>70.0</td>\n",
       "      <td>21.1</td>\n",
       "      <td>1020.2</td>\n",
       "      <td>-1.000000</td>\n",
       "      <td>1.5</td>\n",
       "      <td>0.0</td>\n",
       "    </tr>\n",
       "    <tr>\n",
       "      <th>2016-01-01 02:00:00</th>\n",
       "      <td>0.0</td>\n",
       "      <td>22.8</td>\n",
       "      <td>2.000000</td>\n",
       "      <td>0.0</td>\n",
       "      <td>21.1</td>\n",
       "      <td>1020.2</td>\n",
       "      <td>0.000000</td>\n",
       "      <td>0.0</td>\n",
       "      <td>0.0</td>\n",
       "    </tr>\n",
       "    <tr>\n",
       "      <th>2016-01-01 03:00:00</th>\n",
       "      <td>0.0</td>\n",
       "      <td>21.1</td>\n",
       "      <td>2.000000</td>\n",
       "      <td>0.0</td>\n",
       "      <td>20.6</td>\n",
       "      <td>1020.1</td>\n",
       "      <td>0.000000</td>\n",
       "      <td>0.0</td>\n",
       "      <td>0.0</td>\n",
       "    </tr>\n",
       "    <tr>\n",
       "      <th>2016-01-01 04:00:00</th>\n",
       "      <td>0.0</td>\n",
       "      <td>20.0</td>\n",
       "      <td>2.000000</td>\n",
       "      <td>250.0</td>\n",
       "      <td>20.0</td>\n",
       "      <td>1020.0</td>\n",
       "      <td>-1.000000</td>\n",
       "      <td>2.6</td>\n",
       "      <td>0.0</td>\n",
       "    </tr>\n",
       "  </tbody>\n",
       "</table>\n",
       "</div>\n",
       "      <button class=\"colab-df-convert\" onclick=\"convertToInteractive('df-bd62a009-6a4e-463e-98cb-29d2b759790b')\"\n",
       "              title=\"Convert this dataframe to an interactive table.\"\n",
       "              style=\"display:none;\">\n",
       "        \n",
       "  <svg xmlns=\"http://www.w3.org/2000/svg\" height=\"24px\"viewBox=\"0 0 24 24\"\n",
       "       width=\"24px\">\n",
       "    <path d=\"M0 0h24v24H0V0z\" fill=\"none\"/>\n",
       "    <path d=\"M18.56 5.44l.94 2.06.94-2.06 2.06-.94-2.06-.94-.94-2.06-.94 2.06-2.06.94zm-11 1L8.5 8.5l.94-2.06 2.06-.94-2.06-.94L8.5 2.5l-.94 2.06-2.06.94zm10 10l.94 2.06.94-2.06 2.06-.94-2.06-.94-.94-2.06-.94 2.06-2.06.94z\"/><path d=\"M17.41 7.96l-1.37-1.37c-.4-.4-.92-.59-1.43-.59-.52 0-1.04.2-1.43.59L10.3 9.45l-7.72 7.72c-.78.78-.78 2.05 0 2.83L4 21.41c.39.39.9.59 1.41.59.51 0 1.02-.2 1.41-.59l7.78-7.78 2.81-2.81c.8-.78.8-2.07 0-2.86zM5.41 20L4 18.59l7.72-7.72 1.47 1.35L5.41 20z\"/>\n",
       "  </svg>\n",
       "      </button>\n",
       "      \n",
       "  <style>\n",
       "    .colab-df-container {\n",
       "      display:flex;\n",
       "      flex-wrap:wrap;\n",
       "      gap: 12px;\n",
       "    }\n",
       "\n",
       "    .colab-df-convert {\n",
       "      background-color: #E8F0FE;\n",
       "      border: none;\n",
       "      border-radius: 50%;\n",
       "      cursor: pointer;\n",
       "      display: none;\n",
       "      fill: #1967D2;\n",
       "      height: 32px;\n",
       "      padding: 0 0 0 0;\n",
       "      width: 32px;\n",
       "    }\n",
       "\n",
       "    .colab-df-convert:hover {\n",
       "      background-color: #E2EBFA;\n",
       "      box-shadow: 0px 1px 2px rgba(60, 64, 67, 0.3), 0px 1px 3px 1px rgba(60, 64, 67, 0.15);\n",
       "      fill: #174EA6;\n",
       "    }\n",
       "\n",
       "    [theme=dark] .colab-df-convert {\n",
       "      background-color: #3B4455;\n",
       "      fill: #D2E3FC;\n",
       "    }\n",
       "\n",
       "    [theme=dark] .colab-df-convert:hover {\n",
       "      background-color: #434B5C;\n",
       "      box-shadow: 0px 1px 3px 1px rgba(0, 0, 0, 0.15);\n",
       "      filter: drop-shadow(0px 1px 2px rgba(0, 0, 0, 0.3));\n",
       "      fill: #FFFFFF;\n",
       "    }\n",
       "  </style>\n",
       "\n",
       "      <script>\n",
       "        const buttonEl =\n",
       "          document.querySelector('#df-bd62a009-6a4e-463e-98cb-29d2b759790b button.colab-df-convert');\n",
       "        buttonEl.style.display =\n",
       "          google.colab.kernel.accessAllowed ? 'block' : 'none';\n",
       "\n",
       "        async function convertToInteractive(key) {\n",
       "          const element = document.querySelector('#df-bd62a009-6a4e-463e-98cb-29d2b759790b');\n",
       "          const dataTable =\n",
       "            await google.colab.kernel.invokeFunction('convertToInteractive',\n",
       "                                                     [key], {});\n",
       "          if (!dataTable) return;\n",
       "\n",
       "          const docLinkHtml = 'Like what you see? Visit the ' +\n",
       "            '<a target=\"_blank\" href=https://colab.research.google.com/notebooks/data_table.ipynb>data table notebook</a>'\n",
       "            + ' to learn more about interactive tables.';\n",
       "          element.innerHTML = '';\n",
       "          dataTable['output_type'] = 'display_data';\n",
       "          await google.colab.output.renderOutput(dataTable, element);\n",
       "          const docLink = document.createElement('div');\n",
       "          docLink.innerHTML = docLinkHtml;\n",
       "          element.appendChild(docLink);\n",
       "        }\n",
       "      </script>\n",
       "    </div>\n",
       "  </div>\n",
       "  "
      ],
      "text/plain": [
       "                     yield  temp_obs  cloudiness  wind_direction  dew_temp  \\\n",
       "date                                                                         \n",
       "2016-01-01 00:00:00    0.0      25.0    6.000000             0.0      20.0   \n",
       "2016-01-01 01:00:00    0.0      24.4    2.149306            70.0      21.1   \n",
       "2016-01-01 02:00:00    0.0      22.8    2.000000             0.0      21.1   \n",
       "2016-01-01 03:00:00    0.0      21.1    2.000000             0.0      20.6   \n",
       "2016-01-01 04:00:00    0.0      20.0    2.000000           250.0      20.0   \n",
       "\n",
       "                     pressure_sea_level  precipitation  wind_speed  \\\n",
       "date                                                                 \n",
       "2016-01-01 00:00:00              1019.7       0.983047         0.0   \n",
       "2016-01-01 01:00:00              1020.2      -1.000000         1.5   \n",
       "2016-01-01 02:00:00              1020.2       0.000000         0.0   \n",
       "2016-01-01 03:00:00              1020.1       0.000000         0.0   \n",
       "2016-01-01 04:00:00              1020.0      -1.000000         2.6   \n",
       "\n",
       "                     yield first difference  \n",
       "date                                         \n",
       "2016-01-01 00:00:00                     NaN  \n",
       "2016-01-01 01:00:00                     0.0  \n",
       "2016-01-01 02:00:00                     0.0  \n",
       "2016-01-01 03:00:00                     0.0  \n",
       "2016-01-01 04:00:00                     0.0  "
      ]
     },
     "execution_count": 44,
     "metadata": {},
     "output_type": "execute_result"
    }
   ],
   "source": [
    "fid_110884_1.head()"
   ]
  },
  {
   "cell_type": "markdown",
   "metadata": {
    "id": "8pcScXquLgS2"
   },
   "source": [
    "### Filling the null values with backward fill"
   ]
  },
  {
   "cell_type": "code",
   "execution_count": 45,
   "metadata": {
    "id": "Uwvu8QeTLL2f"
   },
   "outputs": [],
   "source": [
    "fid_110884_1['yield first difference'] = fid_110884_1['yield first difference'].fillna(method = 'bfill')"
   ]
  },
  {
   "cell_type": "markdown",
   "metadata": {
    "id": "KnvdH0IoJXCk"
   },
   "source": [
    "### Checking the relation between the different columns and yield by using grangercausality test"
   ]
  },
  {
   "cell_type": "code",
   "execution_count": 46,
   "metadata": {
    "id": "cmur3JYgrkGU"
   },
   "outputs": [],
   "source": [
    "max_lags = 7\n",
    "y='yield'"
   ]
  },
  {
   "cell_type": "code",
   "execution_count": 47,
   "metadata": {
    "colab": {
     "base_uri": "https://localhost:8080/"
    },
    "id": "qw6C6UjkoUot",
    "outputId": "0c7ceec6-6bfa-437a-f8d7-b9970639f508"
   },
   "outputs": [
    {
     "name": "stdout",
     "output_type": "stream",
     "text": [
      "Column - temp_obs : P_values - [0.0001, 0.001, 0.0053, 0.015, 0.0295, 0.0438, 0.0611]\n",
      "Column - cloudiness : P_values - [0.1023, 0.2463, 0.12, 0.2187, 0.1939, 0.2788, 0.0452]\n",
      "Column - wind_direction : P_values - [0.5269, 0.3649, 0.5202, 0.0758, 0.0401, 0.0409, 0.0516]\n",
      "Column - dew_temp : P_values - [0.0, 0.0015, 0.0102, 0.0278, 0.0708, 0.1018, 0.0912]\n",
      "Column - pressure_sea_level : P_values - [0.6205, 0.6019, 0.7773, 0.6744, 0.8145, 0.858, 0.904]\n",
      "Column - precipitation : P_values - [0.0249, 0.0482, 0.0371, 0.0641, 0.0787, 0.1042, 0.1909]\n",
      "Column - wind_speed : P_values - [0.6871, 0.7784, 0.7392, 0.6667, 0.4951, 0.5584, 0.5376]\n",
      "Column - yield first difference : P_values - [0.0, 0.0, 0.0, 0.0, 0.0386, 0.0094, 0.0036]\n"
     ]
    }
   ],
   "source": [
    "from statsmodels.tsa.stattools import grangercausalitytests\n",
    "for i in range(len(fid_110884_1.columns)-1):\n",
    "  results = grangercausalitytests(fid_110884_1[[y,fid_110884_1.columns[i+1]]], max_lags, verbose = False)\n",
    "  p_values = [round(results[i+1][0]['ssr_ftest'][1],4) for i in range(max_lags)]\n",
    "  print('Column - {} : P_values - {}'.format(fid_110884_1.columns[i+1],p_values))"
   ]
  },
  {
   "cell_type": "markdown",
   "metadata": {
    "id": "2RhTMwiwJXCk"
   },
   "source": [
    "### Storing the features in one variable which helps to find yield based on grangercausality test results"
   ]
  },
  {
   "cell_type": "code",
   "execution_count": 48,
   "metadata": {
    "id": "GIPznvpWrbbC"
   },
   "outputs": [],
   "source": [
    "df_input = fid_110884_1[['yield first difference','temp_obs','dew_temp','precipitation']]"
   ]
  },
  {
   "cell_type": "code",
   "execution_count": 49,
   "metadata": {
    "colab": {
     "base_uri": "https://localhost:8080/",
     "height": 455
    },
    "id": "XCauwLuTz1vt",
    "outputId": "9495197d-2167-4ee1-fa06-00f60a521e9f"
   },
   "outputs": [
    {
     "data": {
      "text/html": [
       "\n",
       "  <div id=\"df-af1690fb-a400-43ff-8ad8-466f4f6e4a53\">\n",
       "    <div class=\"colab-df-container\">\n",
       "      <div>\n",
       "<style scoped>\n",
       "    .dataframe tbody tr th:only-of-type {\n",
       "        vertical-align: middle;\n",
       "    }\n",
       "\n",
       "    .dataframe tbody tr th {\n",
       "        vertical-align: top;\n",
       "    }\n",
       "\n",
       "    .dataframe thead th {\n",
       "        text-align: right;\n",
       "    }\n",
       "</style>\n",
       "<table border=\"1\" class=\"dataframe\">\n",
       "  <thead>\n",
       "    <tr style=\"text-align: right;\">\n",
       "      <th></th>\n",
       "      <th>yield first difference</th>\n",
       "      <th>temp_obs</th>\n",
       "      <th>dew_temp</th>\n",
       "      <th>precipitation</th>\n",
       "    </tr>\n",
       "    <tr>\n",
       "      <th>date</th>\n",
       "      <th></th>\n",
       "      <th></th>\n",
       "      <th></th>\n",
       "      <th></th>\n",
       "    </tr>\n",
       "  </thead>\n",
       "  <tbody>\n",
       "    <tr>\n",
       "      <th>2016-01-01 00:00:00</th>\n",
       "      <td>0.000</td>\n",
       "      <td>25.0</td>\n",
       "      <td>20.0</td>\n",
       "      <td>0.983047</td>\n",
       "    </tr>\n",
       "    <tr>\n",
       "      <th>2016-01-01 01:00:00</th>\n",
       "      <td>0.000</td>\n",
       "      <td>24.4</td>\n",
       "      <td>21.1</td>\n",
       "      <td>-1.000000</td>\n",
       "    </tr>\n",
       "    <tr>\n",
       "      <th>2016-01-01 02:00:00</th>\n",
       "      <td>0.000</td>\n",
       "      <td>22.8</td>\n",
       "      <td>21.1</td>\n",
       "      <td>0.000000</td>\n",
       "    </tr>\n",
       "    <tr>\n",
       "      <th>2016-01-01 03:00:00</th>\n",
       "      <td>0.000</td>\n",
       "      <td>21.1</td>\n",
       "      <td>20.6</td>\n",
       "      <td>0.000000</td>\n",
       "    </tr>\n",
       "    <tr>\n",
       "      <th>2016-01-01 04:00:00</th>\n",
       "      <td>0.000</td>\n",
       "      <td>20.0</td>\n",
       "      <td>20.0</td>\n",
       "      <td>-1.000000</td>\n",
       "    </tr>\n",
       "    <tr>\n",
       "      <th>...</th>\n",
       "      <td>...</td>\n",
       "      <td>...</td>\n",
       "      <td>...</td>\n",
       "      <td>...</td>\n",
       "    </tr>\n",
       "    <tr>\n",
       "      <th>2016-12-31 19:00:00</th>\n",
       "      <td>17.065</td>\n",
       "      <td>22.8</td>\n",
       "      <td>10.0</td>\n",
       "      <td>0.000000</td>\n",
       "    </tr>\n",
       "    <tr>\n",
       "      <th>2016-12-31 20:00:00</th>\n",
       "      <td>-43.002</td>\n",
       "      <td>23.3</td>\n",
       "      <td>8.9</td>\n",
       "      <td>0.000000</td>\n",
       "    </tr>\n",
       "    <tr>\n",
       "      <th>2016-12-31 21:00:00</th>\n",
       "      <td>-19.111</td>\n",
       "      <td>23.3</td>\n",
       "      <td>10.0</td>\n",
       "      <td>0.000000</td>\n",
       "    </tr>\n",
       "    <tr>\n",
       "      <th>2016-12-31 22:00:00</th>\n",
       "      <td>0.000</td>\n",
       "      <td>22.8</td>\n",
       "      <td>10.0</td>\n",
       "      <td>0.000000</td>\n",
       "    </tr>\n",
       "    <tr>\n",
       "      <th>2016-12-31 23:00:00</th>\n",
       "      <td>5.460</td>\n",
       "      <td>20.6</td>\n",
       "      <td>10.0</td>\n",
       "      <td>0.000000</td>\n",
       "    </tr>\n",
       "  </tbody>\n",
       "</table>\n",
       "<p>8784 rows × 4 columns</p>\n",
       "</div>\n",
       "      <button class=\"colab-df-convert\" onclick=\"convertToInteractive('df-af1690fb-a400-43ff-8ad8-466f4f6e4a53')\"\n",
       "              title=\"Convert this dataframe to an interactive table.\"\n",
       "              style=\"display:none;\">\n",
       "        \n",
       "  <svg xmlns=\"http://www.w3.org/2000/svg\" height=\"24px\"viewBox=\"0 0 24 24\"\n",
       "       width=\"24px\">\n",
       "    <path d=\"M0 0h24v24H0V0z\" fill=\"none\"/>\n",
       "    <path d=\"M18.56 5.44l.94 2.06.94-2.06 2.06-.94-2.06-.94-.94-2.06-.94 2.06-2.06.94zm-11 1L8.5 8.5l.94-2.06 2.06-.94-2.06-.94L8.5 2.5l-.94 2.06-2.06.94zm10 10l.94 2.06.94-2.06 2.06-.94-2.06-.94-.94-2.06-.94 2.06-2.06.94z\"/><path d=\"M17.41 7.96l-1.37-1.37c-.4-.4-.92-.59-1.43-.59-.52 0-1.04.2-1.43.59L10.3 9.45l-7.72 7.72c-.78.78-.78 2.05 0 2.83L4 21.41c.39.39.9.59 1.41.59.51 0 1.02-.2 1.41-.59l7.78-7.78 2.81-2.81c.8-.78.8-2.07 0-2.86zM5.41 20L4 18.59l7.72-7.72 1.47 1.35L5.41 20z\"/>\n",
       "  </svg>\n",
       "      </button>\n",
       "      \n",
       "  <style>\n",
       "    .colab-df-container {\n",
       "      display:flex;\n",
       "      flex-wrap:wrap;\n",
       "      gap: 12px;\n",
       "    }\n",
       "\n",
       "    .colab-df-convert {\n",
       "      background-color: #E8F0FE;\n",
       "      border: none;\n",
       "      border-radius: 50%;\n",
       "      cursor: pointer;\n",
       "      display: none;\n",
       "      fill: #1967D2;\n",
       "      height: 32px;\n",
       "      padding: 0 0 0 0;\n",
       "      width: 32px;\n",
       "    }\n",
       "\n",
       "    .colab-df-convert:hover {\n",
       "      background-color: #E2EBFA;\n",
       "      box-shadow: 0px 1px 2px rgba(60, 64, 67, 0.3), 0px 1px 3px 1px rgba(60, 64, 67, 0.15);\n",
       "      fill: #174EA6;\n",
       "    }\n",
       "\n",
       "    [theme=dark] .colab-df-convert {\n",
       "      background-color: #3B4455;\n",
       "      fill: #D2E3FC;\n",
       "    }\n",
       "\n",
       "    [theme=dark] .colab-df-convert:hover {\n",
       "      background-color: #434B5C;\n",
       "      box-shadow: 0px 1px 3px 1px rgba(0, 0, 0, 0.15);\n",
       "      filter: drop-shadow(0px 1px 2px rgba(0, 0, 0, 0.3));\n",
       "      fill: #FFFFFF;\n",
       "    }\n",
       "  </style>\n",
       "\n",
       "      <script>\n",
       "        const buttonEl =\n",
       "          document.querySelector('#df-af1690fb-a400-43ff-8ad8-466f4f6e4a53 button.colab-df-convert');\n",
       "        buttonEl.style.display =\n",
       "          google.colab.kernel.accessAllowed ? 'block' : 'none';\n",
       "\n",
       "        async function convertToInteractive(key) {\n",
       "          const element = document.querySelector('#df-af1690fb-a400-43ff-8ad8-466f4f6e4a53');\n",
       "          const dataTable =\n",
       "            await google.colab.kernel.invokeFunction('convertToInteractive',\n",
       "                                                     [key], {});\n",
       "          if (!dataTable) return;\n",
       "\n",
       "          const docLinkHtml = 'Like what you see? Visit the ' +\n",
       "            '<a target=\"_blank\" href=https://colab.research.google.com/notebooks/data_table.ipynb>data table notebook</a>'\n",
       "            + ' to learn more about interactive tables.';\n",
       "          element.innerHTML = '';\n",
       "          dataTable['output_type'] = 'display_data';\n",
       "          await google.colab.output.renderOutput(dataTable, element);\n",
       "          const docLink = document.createElement('div');\n",
       "          docLink.innerHTML = docLinkHtml;\n",
       "          element.appendChild(docLink);\n",
       "        }\n",
       "      </script>\n",
       "    </div>\n",
       "  </div>\n",
       "  "
      ],
      "text/plain": [
       "                     yield first difference  temp_obs  dew_temp  precipitation\n",
       "date                                                                          \n",
       "2016-01-01 00:00:00                   0.000      25.0      20.0       0.983047\n",
       "2016-01-01 01:00:00                   0.000      24.4      21.1      -1.000000\n",
       "2016-01-01 02:00:00                   0.000      22.8      21.1       0.000000\n",
       "2016-01-01 03:00:00                   0.000      21.1      20.6       0.000000\n",
       "2016-01-01 04:00:00                   0.000      20.0      20.0      -1.000000\n",
       "...                                     ...       ...       ...            ...\n",
       "2016-12-31 19:00:00                  17.065      22.8      10.0       0.000000\n",
       "2016-12-31 20:00:00                 -43.002      23.3       8.9       0.000000\n",
       "2016-12-31 21:00:00                 -19.111      23.3      10.0       0.000000\n",
       "2016-12-31 22:00:00                   0.000      22.8      10.0       0.000000\n",
       "2016-12-31 23:00:00                   5.460      20.6      10.0       0.000000\n",
       "\n",
       "[8784 rows x 4 columns]"
      ]
     },
     "execution_count": 49,
     "metadata": {},
     "output_type": "execute_result"
    }
   ],
   "source": [
    "df_input"
   ]
  },
  {
   "cell_type": "markdown",
   "metadata": {
    "id": "Ah5y8tjiJXCl"
   },
   "source": [
    "### Splitting the data into train and valid"
   ]
  },
  {
   "cell_type": "code",
   "execution_count": 50,
   "metadata": {
    "id": "zzehC86_z3pr"
   },
   "outputs": [],
   "source": [
    "df_train = df_input[:int(0.9*(len(df_input)))]\n",
    "df_valid = df_input[int(0.9*(len(df_input))):]"
   ]
  },
  {
   "cell_type": "markdown",
   "metadata": {
    "id": "aFiCpQpSJXCl"
   },
   "source": [
    "### Checking the shape of train and valid"
   ]
  },
  {
   "cell_type": "code",
   "execution_count": 51,
   "metadata": {
    "colab": {
     "base_uri": "https://localhost:8080/"
    },
    "id": "ETELEvkE01cd",
    "outputId": "64cf762f-2dad-40e7-a61c-df5c7c2ba682"
   },
   "outputs": [
    {
     "data": {
      "text/plain": [
       "(7905, 4)"
      ]
     },
     "execution_count": 51,
     "metadata": {},
     "output_type": "execute_result"
    }
   ],
   "source": [
    "df_train.shape"
   ]
  },
  {
   "cell_type": "code",
   "execution_count": 52,
   "metadata": {
    "colab": {
     "base_uri": "https://localhost:8080/"
    },
    "id": "kJW5l3ZS01e3",
    "outputId": "5a1d7101-e993-44ec-b719-88d4809d7615"
   },
   "outputs": [
    {
     "data": {
      "text/plain": [
       "(879, 4)"
      ]
     },
     "execution_count": 52,
     "metadata": {},
     "output_type": "execute_result"
    }
   ],
   "source": [
    "df_valid.shape"
   ]
  },
  {
   "cell_type": "markdown",
   "metadata": {
    "id": "yeUh_dO4prH2"
   },
   "source": [
    "### Importing the libraries"
   ]
  },
  {
   "cell_type": "code",
   "execution_count": 53,
   "metadata": {
    "id": "qB9bdiZ_NJW_"
   },
   "outputs": [],
   "source": [
    "import statsmodels.api as sm\n",
    "from statsmodels.tsa.api import VAR\n",
    "from statsmodels.tsa.statespace.varmax import VARMAX"
   ]
  },
  {
   "cell_type": "markdown",
   "metadata": {
    "id": "VmaRtncGpwMW"
   },
   "source": [
    "### Model building"
   ]
  },
  {
   "cell_type": "code",
   "execution_count": 54,
   "metadata": {
    "colab": {
     "base_uri": "https://localhost:8080/"
    },
    "id": "c96iSIRp01hK",
    "outputId": "6f351ba5-7a6c-4c99-8b56-165924cc64b0"
   },
   "outputs": [
    {
     "name": "stdout",
     "output_type": "stream",
     "text": [
      "Order =  1\n",
      "AIC:  10.292546478774321\n",
      "BIC:  10.31019608464332\n",
      "Order =  2\n",
      "AIC:  10.014045042230201\n",
      "BIC:  10.045817776340712\n",
      "Order =  3\n",
      "AIC:  9.918161859950962\n",
      "BIC:  9.964060784386612\n",
      "Order =  4\n",
      "AIC:  9.88086098712272\n",
      "BIC:  9.940889165032496\n",
      "Order =  5\n",
      "AIC:  9.865673331191902\n",
      "BIC:  9.939833826790665\n",
      "Order =  6\n",
      "AIC:  9.854506774050027\n",
      "BIC:  9.942802652619015\n",
      "Order =  7\n",
      "AIC:  9.847159555424104\n",
      "BIC:  9.949593883311444\n",
      "Order =  8\n",
      "AIC:  9.842206641286143\n",
      "BIC:  9.958782485907353\n",
      "Order =  9\n",
      "AIC:  9.838863378188817\n",
      "BIC:  9.969583808027313\n",
      "Order =  10\n",
      "AIC:  9.836676839637\n",
      "BIC:  9.981544924244615\n",
      "Order =  11\n",
      "AIC:  9.835753547401596\n",
      "BIC:  9.994772357399077\n",
      "Order =  12\n",
      "AIC:  9.832967897485597\n",
      "BIC:  10.006140504563115\n",
      "Order =  13\n",
      "AIC:  9.827561665379813\n",
      "BIC:  10.014891142297477\n",
      "Order =  14\n",
      "AIC:  9.819028237478854\n",
      "BIC:  10.02051765806722\n",
      "Order =  15\n",
      "AIC:  9.800819541472123\n",
      "BIC:  10.016471980632698\n",
      "Order =  16\n",
      "AIC:  9.779533910403305\n",
      "BIC:  10.009352444109064\n",
      "Order =  17\n",
      "AIC:  9.756399801144244\n",
      "BIC:  10.000387506440132\n",
      "Order =  18\n",
      "AIC:  9.732370431854038\n",
      "BIC:  9.990530386857488\n",
      "Order =  19\n",
      "AIC:  9.71087665363026\n",
      "BIC:  9.983211937531703\n",
      "Order =  20\n",
      "AIC:  9.682069171794344\n",
      "BIC:  9.968582864857714\n",
      "Order =  21\n",
      "AIC:  9.660113699542915\n",
      "BIC:  9.960808883106168\n",
      "Order =  22\n",
      "AIC:  9.642225751123124\n",
      "BIC:  9.957105507598746\n",
      "Order =  23\n",
      "AIC:  9.638137274450374\n",
      "BIC:  9.967204687325893\n",
      "Order =  24\n",
      "AIC:  9.626334598738119\n",
      "BIC:  9.969592752576618\n",
      "Order =  25\n",
      "AIC:  9.598759988834203\n",
      "BIC:  9.956211969274836\n",
      "Order =  26\n",
      "AIC:  9.585136422868631\n",
      "BIC:  9.956785316627126\n",
      "Order =  27\n",
      "AIC:  9.586294223614873\n",
      "BIC:  9.972143118484059\n",
      "Order =  28\n",
      "AIC:  9.58800180628223\n",
      "BIC:  9.988053791132543\n",
      "Order =  29\n",
      "AIC:  9.590943430115725\n",
      "BIC:  10.005201594895718\n",
      "Order =  30\n",
      "AIC:  9.592615381722847\n",
      "BIC:  10.021082817459712\n"
     ]
    }
   ],
   "source": [
    "model = VAR(df_train, freq='1H')\n",
    "for i in range(30):\n",
    "  results = model.fit(i+1)\n",
    "  print('Order = ', i+1)\n",
    "  print('AIC: ', results.aic)\n",
    "  print('BIC: ', results.bic)"
   ]
  },
  {
   "cell_type": "code",
   "execution_count": 55,
   "metadata": {
    "colab": {
     "base_uri": "https://localhost:8080/",
     "height": 737
    },
    "id": "G3BUijoC01jl",
    "outputId": "30563ebe-d7fe-4638-a7d7-01349d87d8e6"
   },
   "outputs": [
    {
     "data": {
      "text/html": [
       "<table class=\"simpletable\">\n",
       "<caption>VAR Order Selection (* highlights the minimums)</caption>\n",
       "<tr>\n",
       "   <td></td>      <th>AIC</th>         <th>BIC</th>         <th>FPE</th>        <th>HQIC</th>    \n",
       "</tr>\n",
       "<tr>\n",
       "  <th>0</th>  <td>     16.94</td>  <td>     16.94</td>  <td> 2.267e+07</td>  <td>     16.94</td> \n",
       "</tr>\n",
       "<tr>\n",
       "  <th>1</th>  <td>     10.30</td>  <td>     10.32</td>  <td> 2.976e+04</td>  <td>     10.31</td> \n",
       "</tr>\n",
       "<tr>\n",
       "  <th>2</th>  <td>     10.02</td>  <td>     10.05</td>  <td> 2.253e+04</td>  <td>     10.03</td> \n",
       "</tr>\n",
       "<tr>\n",
       "  <th>3</th>  <td>     9.927</td>  <td>     9.973</td>  <td> 2.047e+04</td>  <td>     9.942</td> \n",
       "</tr>\n",
       "<tr>\n",
       "  <th>4</th>  <td>     9.889</td>  <td>     9.949</td>  <td> 1.971e+04</td>  <td>     9.910</td> \n",
       "</tr>\n",
       "<tr>\n",
       "  <th>5</th>  <td>     9.873</td>  <td>     9.948*</td> <td> 1.941e+04</td>  <td>     9.899</td> \n",
       "</tr>\n",
       "<tr>\n",
       "  <th>6</th>  <td>     9.862</td>  <td>     9.950</td>  <td> 1.918e+04</td>  <td>     9.892</td> \n",
       "</tr>\n",
       "<tr>\n",
       "  <th>7</th>  <td>     9.855</td>  <td>     9.957</td>  <td> 1.905e+04</td>  <td>     9.890</td> \n",
       "</tr>\n",
       "<tr>\n",
       "  <th>8</th>  <td>     9.849</td>  <td>     9.966</td>  <td> 1.894e+04</td>  <td>     9.889</td> \n",
       "</tr>\n",
       "<tr>\n",
       "  <th>9</th>  <td>     9.846</td>  <td>     9.977</td>  <td> 1.888e+04</td>  <td>     9.891</td> \n",
       "</tr>\n",
       "<tr>\n",
       "  <th>10</th> <td>     9.843</td>  <td>     9.988</td>  <td> 1.883e+04</td>  <td>     9.893</td> \n",
       "</tr>\n",
       "<tr>\n",
       "  <th>11</th> <td>     9.842</td>  <td>     10.00</td>  <td> 1.880e+04</td>  <td>     9.896</td> \n",
       "</tr>\n",
       "<tr>\n",
       "  <th>12</th> <td>     9.839</td>  <td>     10.01</td>  <td> 1.875e+04</td>  <td>     9.898</td> \n",
       "</tr>\n",
       "<tr>\n",
       "  <th>13</th> <td>     9.834</td>  <td>     10.02</td>  <td> 1.865e+04</td>  <td>     9.898</td> \n",
       "</tr>\n",
       "<tr>\n",
       "  <th>14</th> <td>     9.825</td>  <td>     10.03</td>  <td> 1.849e+04</td>  <td>     9.894</td> \n",
       "</tr>\n",
       "<tr>\n",
       "  <th>15</th> <td>     9.807</td>  <td>     10.02</td>  <td> 1.816e+04</td>  <td>     9.881</td> \n",
       "</tr>\n",
       "<tr>\n",
       "  <th>16</th> <td>     9.785</td>  <td>     10.02</td>  <td> 1.777e+04</td>  <td>     9.864</td> \n",
       "</tr>\n",
       "<tr>\n",
       "  <th>17</th> <td>     9.762</td>  <td>     10.01</td>  <td> 1.736e+04</td>  <td>     9.845</td> \n",
       "</tr>\n",
       "<tr>\n",
       "  <th>18</th> <td>     9.737</td>  <td>     9.996</td>  <td> 1.694e+04</td>  <td>     9.826</td> \n",
       "</tr>\n",
       "<tr>\n",
       "  <th>19</th> <td>     9.715</td>  <td>     9.988</td>  <td> 1.657e+04</td>  <td>     9.809</td> \n",
       "</tr>\n",
       "<tr>\n",
       "  <th>20</th> <td>     9.686</td>  <td>     9.973</td>  <td> 1.609e+04</td>  <td>     9.784</td> \n",
       "</tr>\n",
       "<tr>\n",
       "  <th>21</th> <td>     9.664</td>  <td>     9.965</td>  <td> 1.574e+04</td>  <td>     9.767</td> \n",
       "</tr>\n",
       "<tr>\n",
       "  <th>22</th> <td>     9.645</td>  <td>     9.960</td>  <td> 1.545e+04</td>  <td>     9.753</td> \n",
       "</tr>\n",
       "<tr>\n",
       "  <th>23</th> <td>     9.641</td>  <td>     9.970</td>  <td> 1.538e+04</td>  <td>     9.754</td> \n",
       "</tr>\n",
       "<tr>\n",
       "  <th>24</th> <td>     9.628</td>  <td>     9.972</td>  <td> 1.519e+04</td>  <td>     9.746</td> \n",
       "</tr>\n",
       "<tr>\n",
       "  <th>25</th> <td>     9.600</td>  <td>     9.958</td>  <td> 1.477e+04</td>  <td>     9.723</td> \n",
       "</tr>\n",
       "<tr>\n",
       "  <th>26</th> <td>     9.586*</td> <td>     9.958</td>  <td> 1.457e+04*</td> <td>     9.714*</td>\n",
       "</tr>\n",
       "<tr>\n",
       "  <th>27</th> <td>     9.587</td>  <td>     9.973</td>  <td> 1.458e+04</td>  <td>     9.720</td> \n",
       "</tr>\n",
       "<tr>\n",
       "  <th>28</th> <td>     9.589</td>  <td>     9.989</td>  <td> 1.460e+04</td>  <td>     9.726</td> \n",
       "</tr>\n",
       "<tr>\n",
       "  <th>29</th> <td>     9.591</td>  <td>     10.01</td>  <td> 1.464e+04</td>  <td>     9.733</td> \n",
       "</tr>\n",
       "<tr>\n",
       "  <th>30</th> <td>     9.593</td>  <td>     10.02</td>  <td> 1.466e+04</td>  <td>     9.739</td> \n",
       "</tr>\n",
       "</table>"
      ],
      "text/plain": [
       "<class 'statsmodels.iolib.table.SimpleTable'>"
      ]
     },
     "execution_count": 55,
     "metadata": {},
     "output_type": "execute_result"
    }
   ],
   "source": [
    "model.select_order(30).summary()"
   ]
  },
  {
   "cell_type": "code",
   "execution_count": 56,
   "metadata": {
    "colab": {
     "base_uri": "https://localhost:8080/"
    },
    "id": "FR7Wca6101mH",
    "outputId": "219c6a48-382e-47ee-e8e5-32f7f5fb488a"
   },
   "outputs": [
    {
     "name": "stdout",
     "output_type": "stream",
     "text": [
      "                                                    Statespace Model Results                                                   \n",
      "===============================================================================================================================\n",
      "Dep. Variable:     ['yield first difference', 'temp_obs', 'dew_temp', 'precipitation']   No. Observations:                 7905\n",
      "Model:                                                                          VAR(5)   Log Likelihood              -83774.243\n",
      "                                                                           + intercept   AIC                         167736.487\n",
      "Date:                                                                 Fri, 24 Feb 2023   BIC                         168392.161\n",
      "Time:                                                                         16:46:10   HQIC                        167961.048\n",
      "Sample:                                                                     01-01-2016                                         \n",
      "                                                                          - 11-25-2016                                         \n",
      "Covariance Type:                                                                   opg                                         \n",
      "==================================================================================================================\n",
      "Ljung-Box (L1) (Q):      0.08, 0.71, 0.00, 0.04   Jarque-Bera (JB):   34550272.45, 21299.70, 12759.34, 23497748.32\n",
      "Prob(Q):                 0.77, 0.40, 0.96, 0.84   Prob(JB):                                 0.00, 0.00, 0.00, 0.00\n",
      "Heteroskedasticity (H): 22.62, 1.05, 0.52, 1.87   Skew:                                  3.88, -0.82, -0.44, 13.74\n",
      "Prob(H) (two-sided):     0.00, 0.24, 0.00, 0.00   Kurtosis:                            326.78, 10.87, 9.16, 268.68\n",
      "                         Results for equation yield first difference                         \n",
      "=============================================================================================\n",
      "                                coef    std err          z      P>|z|      [0.025      0.975]\n",
      "---------------------------------------------------------------------------------------------\n",
      "intercept                     0.1972      0.979      0.201      0.840      -1.722       2.116\n",
      "L1.yield first difference    -0.2671      0.002   -139.764      0.000      -0.271      -0.263\n",
      "L1.temp_obs                  -0.0845      0.152     -0.557      0.578      -0.382       0.213\n",
      "L1.dew_temp                  -0.0371      0.223     -0.166      0.868      -0.475       0.401\n",
      "L1.precipitation              0.0227      0.025      0.898      0.369      -0.027       0.072\n",
      "L2.yield first difference    -0.1726      0.004    -38.824      0.000      -0.181      -0.164\n",
      "L2.temp_obs                   0.0312      0.255      0.122      0.903      -0.469       0.531\n",
      "L2.dew_temp                   0.1646      0.311      0.529      0.597      -0.445       0.774\n",
      "L2.precipitation              0.0073      0.023      0.321      0.748      -0.037       0.052\n",
      "L3.yield first difference    -0.1210      0.009    -13.312      0.000      -0.139      -0.103\n",
      "L3.temp_obs                   0.0754      0.287      0.262      0.793      -0.488       0.638\n",
      "L3.dew_temp                  -0.0323      0.322     -0.101      0.920      -0.662       0.598\n",
      "L3.precipitation             -0.0120      0.010     -1.155      0.248      -0.032       0.008\n",
      "L4.yield first difference    -0.1008      0.010     -9.979      0.000      -0.121      -0.081\n",
      "L4.temp_obs                   0.0586      0.275      0.214      0.831      -0.479       0.597\n",
      "L4.dew_temp                  -0.0749      0.330     -0.227      0.821      -0.723       0.573\n",
      "L4.precipitation              0.0062      0.012      0.500      0.617      -0.018       0.031\n",
      "L5.yield first difference    -0.0515      0.011     -4.832      0.000      -0.072      -0.031\n",
      "L5.temp_obs                  -0.0922      0.164     -0.563      0.574      -0.413       0.229\n",
      "L5.dew_temp                  -0.0149      0.242     -0.062      0.951      -0.489       0.459\n",
      "L5.precipitation             -0.0062      0.015     -0.402      0.688      -0.037       0.024\n",
      "                                Results for equation temp_obs                                \n",
      "=============================================================================================\n",
      "                                coef    std err          z      P>|z|      [0.025      0.975]\n",
      "---------------------------------------------------------------------------------------------\n",
      "intercept                     1.3664      0.065     21.143      0.000       1.240       1.493\n",
      "L1.yield first difference     0.0019      0.001      1.445      0.148      -0.001       0.004\n",
      "L1.temp_obs                   1.1927      0.011    112.689      0.000       1.172       1.213\n",
      "L1.dew_temp                   0.1095      0.015      7.064      0.000       0.079       0.140\n",
      "L1.precipitation              0.0093      0.001     11.266      0.000       0.008       0.011\n",
      "L2.yield first difference     0.0011      0.001      0.926      0.354      -0.001       0.003\n",
      "L2.temp_obs                  -0.0958      0.013     -7.310      0.000      -0.121      -0.070\n",
      "L2.dew_temp                   0.0001      0.021      0.005      0.996      -0.040       0.041\n",
      "L2.precipitation              0.0017      0.001      1.912      0.056   -4.23e-05       0.003\n",
      "L3.yield first difference     0.0006      0.001      0.454      0.650      -0.002       0.003\n",
      "L3.temp_obs                  -0.0893      0.015     -6.115      0.000      -0.118      -0.061\n",
      "L3.dew_temp                  -0.0604      0.021     -2.873      0.004      -0.102      -0.019\n",
      "L3.precipitation             -0.0008      0.001     -0.599      0.549      -0.004       0.002\n",
      "L4.yield first difference     0.0009      0.001      0.815      0.415      -0.001       0.003\n",
      "L4.temp_obs                  -0.0262      0.017     -1.562      0.118      -0.059       0.007\n",
      "L4.dew_temp                  -0.0064      0.023     -0.274      0.784      -0.052       0.039\n",
      "L4.precipitation             -0.0010      0.001     -0.780      0.435      -0.004       0.002\n",
      "L5.yield first difference     0.0009      0.001      0.757      0.449      -0.001       0.003\n",
      "L5.temp_obs                  -0.1068      0.012     -9.213      0.000      -0.130      -0.084\n",
      "L5.dew_temp                   0.0470      0.017      2.830      0.005       0.014       0.080\n",
      "L5.precipitation             -0.0044      0.001     -3.660      0.000      -0.007      -0.002\n",
      "                                Results for equation dew_temp                                \n",
      "=============================================================================================\n",
      "                                coef    std err          z      P>|z|      [0.025      0.975]\n",
      "---------------------------------------------------------------------------------------------\n",
      "intercept                    -0.1023      0.038     -2.707      0.007      -0.176      -0.028\n",
      "L1.yield first difference     0.0001      0.001      0.094      0.925      -0.002       0.002\n",
      "L1.temp_obs                  -0.0706      0.008     -9.393      0.000      -0.085      -0.056\n",
      "L1.dew_temp                   1.0331      0.008    132.217      0.000       1.018       1.048\n",
      "L1.precipitation             -0.0010      0.001     -1.371      0.170      -0.002       0.000\n",
      "L2.yield first difference     0.0012      0.001      1.202      0.229      -0.001       0.003\n",
      "L2.temp_obs                   0.0389      0.012      3.191      0.001       0.015       0.063\n",
      "L2.dew_temp                  -0.0100      0.012     -0.826      0.409      -0.034       0.014\n",
      "L2.precipitation             -0.0001      0.001     -0.158      0.874      -0.002       0.002\n",
      "L3.yield first difference     0.0014      0.001      1.436      0.151      -0.000       0.003\n",
      "L3.temp_obs                   0.0296      0.013      2.291      0.022       0.004       0.055\n",
      "L3.dew_temp                  -0.0205      0.013     -1.590      0.112      -0.046       0.005\n",
      "L3.precipitation             -0.0010      0.001     -1.096      0.273      -0.003       0.001\n",
      "L4.yield first difference     0.0018      0.001      1.884      0.060   -7.08e-05       0.004\n",
      "L4.temp_obs                   0.0067      0.013      0.510      0.610      -0.019       0.033\n",
      "L4.dew_temp                  -0.0181      0.014     -1.258      0.208      -0.046       0.010\n",
      "L4.precipitation              0.0011      0.001      1.187      0.235      -0.001       0.003\n",
      "L5.yield first difference     0.0004      0.001      0.438      0.661      -0.001       0.002\n",
      "L5.temp_obs                   0.0180      0.009      2.077      0.038       0.001       0.035\n",
      "L5.dew_temp                  -0.0090      0.010     -0.916      0.360      -0.028       0.010\n",
      "L5.precipitation              0.0003      0.001      0.275      0.783      -0.002       0.002\n",
      "                              Results for equation precipitation                             \n",
      "=============================================================================================\n",
      "                                coef    std err          z      P>|z|      [0.025      0.975]\n",
      "---------------------------------------------------------------------------------------------\n",
      "intercept                    -0.6612      1.857     -0.356      0.722      -4.301       2.979\n",
      "L1.yield first difference    -0.0010      0.032     -0.031      0.975      -0.063       0.061\n",
      "L1.temp_obs                  -0.9159      0.204     -4.482      0.000      -1.316      -0.515\n",
      "L1.dew_temp                   0.4071      0.296      1.377      0.168      -0.172       0.987\n",
      "L1.precipitation              0.2510      0.005     53.934      0.000       0.242       0.260\n",
      "L2.yield first difference     0.0055      0.031      0.178      0.858      -0.055       0.065\n",
      "L2.temp_obs                   1.1495      0.149      7.739      0.000       0.858       1.441\n",
      "L2.dew_temp                  -0.2456      0.280     -0.878      0.380      -0.794       0.303\n",
      "L2.precipitation              0.0870      0.005     16.393      0.000       0.077       0.097\n",
      "L3.yield first difference    -0.0114      0.030     -0.376      0.707      -0.071       0.048\n",
      "L3.temp_obs                   0.1480      0.176      0.843      0.399      -0.196       0.492\n",
      "L3.dew_temp                   0.0102      0.301      0.034      0.973      -0.579       0.600\n",
      "L3.precipitation              0.0346      0.008      4.322      0.000       0.019       0.050\n",
      "L4.yield first difference    -0.0336      0.022     -1.501      0.133      -0.077       0.010\n",
      "L4.temp_obs                  -0.2722      0.237     -1.150      0.250      -0.736       0.192\n",
      "L4.dew_temp                  -0.3257      0.427     -0.763      0.445      -1.162       0.511\n",
      "L4.precipitation             -0.0019      0.017     -0.114      0.909      -0.034       0.031\n",
      "L5.yield first difference    -0.0236      0.020     -1.190      0.234      -0.063       0.015\n",
      "L5.temp_obs                  -0.1164      0.190     -0.612      0.541      -0.489       0.256\n",
      "L5.dew_temp                   0.2573      0.293      0.880      0.379      -0.316       0.831\n",
      "L5.precipitation             -0.0026      0.015     -0.180      0.858      -0.031       0.026\n",
      "                                             Error covariance matrix                                             \n",
      "=================================================================================================================\n",
      "                                                    coef    std err          z      P>|z|      [0.025      0.975]\n",
      "-----------------------------------------------------------------------------------------------------------------\n",
      "sqrt.var.yield first difference                  12.3182      0.012   1011.875      0.000      12.294      12.342\n",
      "sqrt.cov.yield first difference.temp_obs         8.2e-05      0.013      0.006      0.995      -0.025       0.025\n",
      "sqrt.var.temp_obs                                 1.0952      0.007    163.377      0.000       1.082       1.108\n",
      "sqrt.cov.yield first difference.dew_temp         -0.0030      0.013     -0.237      0.812      -0.027       0.022\n",
      "sqrt.cov.temp_obs.dew_temp                        0.0556      0.007      7.559      0.000       0.041       0.070\n",
      "sqrt.var.dew_temp                                 0.8285      0.004    226.965      0.000       0.821       0.836\n",
      "sqrt.cov.yield first difference.precipitation     0.0804      0.377      0.213      0.831      -0.659       0.819\n",
      "sqrt.cov.temp_obs.precipitation                  -3.1889      0.166    -19.220      0.000      -3.514      -2.864\n",
      "sqrt.cov.dew_temp.precipitation                  -0.4075      0.162     -2.510      0.012      -0.726      -0.089\n",
      "sqrt.var.precipitation                           12.2780      0.025    484.930      0.000      12.228      12.328\n",
      "=================================================================================================================\n",
      "\n",
      "Warnings:\n",
      "[1] Covariance matrix calculated using the outer product of gradients (complex-step).\n"
     ]
    }
   ],
   "source": [
    "model = VARMAX(df_train, freq='1H',order=(5,0))\n",
    "results = model.fit(disp=False)\n",
    "print(results.summary())"
   ]
  },
  {
   "cell_type": "markdown",
   "metadata": {
    "id": "WUxWJq0jqCHC"
   },
   "source": [
    "### Forecasting the values by using fitted model"
   ]
  },
  {
   "cell_type": "code",
   "execution_count": 84,
   "metadata": {
    "id": "lLaxSLm_01ok"
   },
   "outputs": [],
   "source": [
    "n_forecast = 879\n",
    "predict = results.get_prediction(start=len(df_train),end=len(df_train) + n_forecast-1)\n",
    "\n",
    "predictions = predict.predicted_mean"
   ]
  },
  {
   "cell_type": "markdown",
   "metadata": {
    "id": "RXDK-M56qM6M"
   },
   "source": [
    "### Storing the predictions in one variable with suitable column names"
   ]
  },
  {
   "cell_type": "code",
   "execution_count": 85,
   "metadata": {
    "colab": {
     "base_uri": "https://localhost:8080/",
     "height": 423
    },
    "id": "X6DSOWs4RSdj",
    "outputId": "ed199779-35da-4358-ab4d-c7764ac5650a"
   },
   "outputs": [
    {
     "data": {
      "text/html": [
       "\n",
       "  <div id=\"df-ed7ef329-0452-473b-a885-d9c915dddee2\">\n",
       "    <div class=\"colab-df-container\">\n",
       "      <div>\n",
       "<style scoped>\n",
       "    .dataframe tbody tr th:only-of-type {\n",
       "        vertical-align: middle;\n",
       "    }\n",
       "\n",
       "    .dataframe tbody tr th {\n",
       "        vertical-align: top;\n",
       "    }\n",
       "\n",
       "    .dataframe thead th {\n",
       "        text-align: right;\n",
       "    }\n",
       "</style>\n",
       "<table border=\"1\" class=\"dataframe\">\n",
       "  <thead>\n",
       "    <tr style=\"text-align: right;\">\n",
       "      <th></th>\n",
       "      <th>yield_predicted</th>\n",
       "      <th>temp_obs_predicted</th>\n",
       "      <th>dew_temp_predicted</th>\n",
       "      <th>precipitation_predicted</th>\n",
       "    </tr>\n",
       "  </thead>\n",
       "  <tbody>\n",
       "    <tr>\n",
       "      <th>2016-11-25 09:00:00</th>\n",
       "      <td>2.722047</td>\n",
       "      <td>18.438150</td>\n",
       "      <td>16.117449</td>\n",
       "      <td>1.388902</td>\n",
       "    </tr>\n",
       "    <tr>\n",
       "      <th>2016-11-25 10:00:00</th>\n",
       "      <td>2.244539</td>\n",
       "      <td>18.731577</td>\n",
       "      <td>16.042406</td>\n",
       "      <td>0.707519</td>\n",
       "    </tr>\n",
       "    <tr>\n",
       "      <th>2016-11-25 11:00:00</th>\n",
       "      <td>1.256679</td>\n",
       "      <td>19.178386</td>\n",
       "      <td>15.917640</td>\n",
       "      <td>0.591029</td>\n",
       "    </tr>\n",
       "    <tr>\n",
       "      <th>2016-11-25 12:00:00</th>\n",
       "      <td>0.666313</td>\n",
       "      <td>19.628725</td>\n",
       "      <td>15.785032</td>\n",
       "      <td>1.380437</td>\n",
       "    </tr>\n",
       "    <tr>\n",
       "      <th>2016-11-25 13:00:00</th>\n",
       "      <td>-0.085914</td>\n",
       "      <td>20.246591</td>\n",
       "      <td>15.648758</td>\n",
       "      <td>1.286620</td>\n",
       "    </tr>\n",
       "    <tr>\n",
       "      <th>...</th>\n",
       "      <td>...</td>\n",
       "      <td>...</td>\n",
       "      <td>...</td>\n",
       "      <td>...</td>\n",
       "    </tr>\n",
       "    <tr>\n",
       "      <th>2016-12-31 19:00:00</th>\n",
       "      <td>0.028808</td>\n",
       "      <td>23.138422</td>\n",
       "      <td>17.034288</td>\n",
       "      <td>1.485272</td>\n",
       "    </tr>\n",
       "    <tr>\n",
       "      <th>2016-12-31 20:00:00</th>\n",
       "      <td>0.028808</td>\n",
       "      <td>23.138431</td>\n",
       "      <td>17.034301</td>\n",
       "      <td>1.485274</td>\n",
       "    </tr>\n",
       "    <tr>\n",
       "      <th>2016-12-31 21:00:00</th>\n",
       "      <td>0.028808</td>\n",
       "      <td>23.138439</td>\n",
       "      <td>17.034313</td>\n",
       "      <td>1.485276</td>\n",
       "    </tr>\n",
       "    <tr>\n",
       "      <th>2016-12-31 22:00:00</th>\n",
       "      <td>0.028808</td>\n",
       "      <td>23.138448</td>\n",
       "      <td>17.034325</td>\n",
       "      <td>1.485278</td>\n",
       "    </tr>\n",
       "    <tr>\n",
       "      <th>2016-12-31 23:00:00</th>\n",
       "      <td>0.028808</td>\n",
       "      <td>23.138457</td>\n",
       "      <td>17.034337</td>\n",
       "      <td>1.485280</td>\n",
       "    </tr>\n",
       "  </tbody>\n",
       "</table>\n",
       "<p>879 rows × 4 columns</p>\n",
       "</div>\n",
       "      <button class=\"colab-df-convert\" onclick=\"convertToInteractive('df-ed7ef329-0452-473b-a885-d9c915dddee2')\"\n",
       "              title=\"Convert this dataframe to an interactive table.\"\n",
       "              style=\"display:none;\">\n",
       "        \n",
       "  <svg xmlns=\"http://www.w3.org/2000/svg\" height=\"24px\"viewBox=\"0 0 24 24\"\n",
       "       width=\"24px\">\n",
       "    <path d=\"M0 0h24v24H0V0z\" fill=\"none\"/>\n",
       "    <path d=\"M18.56 5.44l.94 2.06.94-2.06 2.06-.94-2.06-.94-.94-2.06-.94 2.06-2.06.94zm-11 1L8.5 8.5l.94-2.06 2.06-.94-2.06-.94L8.5 2.5l-.94 2.06-2.06.94zm10 10l.94 2.06.94-2.06 2.06-.94-2.06-.94-.94-2.06-.94 2.06-2.06.94z\"/><path d=\"M17.41 7.96l-1.37-1.37c-.4-.4-.92-.59-1.43-.59-.52 0-1.04.2-1.43.59L10.3 9.45l-7.72 7.72c-.78.78-.78 2.05 0 2.83L4 21.41c.39.39.9.59 1.41.59.51 0 1.02-.2 1.41-.59l7.78-7.78 2.81-2.81c.8-.78.8-2.07 0-2.86zM5.41 20L4 18.59l7.72-7.72 1.47 1.35L5.41 20z\"/>\n",
       "  </svg>\n",
       "      </button>\n",
       "      \n",
       "  <style>\n",
       "    .colab-df-container {\n",
       "      display:flex;\n",
       "      flex-wrap:wrap;\n",
       "      gap: 12px;\n",
       "    }\n",
       "\n",
       "    .colab-df-convert {\n",
       "      background-color: #E8F0FE;\n",
       "      border: none;\n",
       "      border-radius: 50%;\n",
       "      cursor: pointer;\n",
       "      display: none;\n",
       "      fill: #1967D2;\n",
       "      height: 32px;\n",
       "      padding: 0 0 0 0;\n",
       "      width: 32px;\n",
       "    }\n",
       "\n",
       "    .colab-df-convert:hover {\n",
       "      background-color: #E2EBFA;\n",
       "      box-shadow: 0px 1px 2px rgba(60, 64, 67, 0.3), 0px 1px 3px 1px rgba(60, 64, 67, 0.15);\n",
       "      fill: #174EA6;\n",
       "    }\n",
       "\n",
       "    [theme=dark] .colab-df-convert {\n",
       "      background-color: #3B4455;\n",
       "      fill: #D2E3FC;\n",
       "    }\n",
       "\n",
       "    [theme=dark] .colab-df-convert:hover {\n",
       "      background-color: #434B5C;\n",
       "      box-shadow: 0px 1px 3px 1px rgba(0, 0, 0, 0.15);\n",
       "      filter: drop-shadow(0px 1px 2px rgba(0, 0, 0, 0.3));\n",
       "      fill: #FFFFFF;\n",
       "    }\n",
       "  </style>\n",
       "\n",
       "      <script>\n",
       "        const buttonEl =\n",
       "          document.querySelector('#df-ed7ef329-0452-473b-a885-d9c915dddee2 button.colab-df-convert');\n",
       "        buttonEl.style.display =\n",
       "          google.colab.kernel.accessAllowed ? 'block' : 'none';\n",
       "\n",
       "        async function convertToInteractive(key) {\n",
       "          const element = document.querySelector('#df-ed7ef329-0452-473b-a885-d9c915dddee2');\n",
       "          const dataTable =\n",
       "            await google.colab.kernel.invokeFunction('convertToInteractive',\n",
       "                                                     [key], {});\n",
       "          if (!dataTable) return;\n",
       "\n",
       "          const docLinkHtml = 'Like what you see? Visit the ' +\n",
       "            '<a target=\"_blank\" href=https://colab.research.google.com/notebooks/data_table.ipynb>data table notebook</a>'\n",
       "            + ' to learn more about interactive tables.';\n",
       "          element.innerHTML = '';\n",
       "          dataTable['output_type'] = 'display_data';\n",
       "          await google.colab.output.renderOutput(dataTable, element);\n",
       "          const docLink = document.createElement('div');\n",
       "          docLink.innerHTML = docLinkHtml;\n",
       "          element.appendChild(docLink);\n",
       "        }\n",
       "      </script>\n",
       "    </div>\n",
       "  </div>\n",
       "  "
      ],
      "text/plain": [
       "                     yield_predicted  temp_obs_predicted  dew_temp_predicted  \\\n",
       "2016-11-25 09:00:00         2.722047           18.438150           16.117449   \n",
       "2016-11-25 10:00:00         2.244539           18.731577           16.042406   \n",
       "2016-11-25 11:00:00         1.256679           19.178386           15.917640   \n",
       "2016-11-25 12:00:00         0.666313           19.628725           15.785032   \n",
       "2016-11-25 13:00:00        -0.085914           20.246591           15.648758   \n",
       "...                              ...                 ...                 ...   \n",
       "2016-12-31 19:00:00         0.028808           23.138422           17.034288   \n",
       "2016-12-31 20:00:00         0.028808           23.138431           17.034301   \n",
       "2016-12-31 21:00:00         0.028808           23.138439           17.034313   \n",
       "2016-12-31 22:00:00         0.028808           23.138448           17.034325   \n",
       "2016-12-31 23:00:00         0.028808           23.138457           17.034337   \n",
       "\n",
       "                     precipitation_predicted  \n",
       "2016-11-25 09:00:00                 1.388902  \n",
       "2016-11-25 10:00:00                 0.707519  \n",
       "2016-11-25 11:00:00                 0.591029  \n",
       "2016-11-25 12:00:00                 1.380437  \n",
       "2016-11-25 13:00:00                 1.286620  \n",
       "...                                      ...  \n",
       "2016-12-31 19:00:00                 1.485272  \n",
       "2016-12-31 20:00:00                 1.485274  \n",
       "2016-12-31 21:00:00                 1.485276  \n",
       "2016-12-31 22:00:00                 1.485278  \n",
       "2016-12-31 23:00:00                 1.485280  \n",
       "\n",
       "[879 rows x 4 columns]"
      ]
     },
     "execution_count": 85,
     "metadata": {},
     "output_type": "execute_result"
    }
   ],
   "source": [
    "predictions.columns=['yield_predicted','temp_obs_predicted','dew_temp_predicted','precipitation_predicted']\n",
    "predictions"
   ]
  },
  {
   "cell_type": "code",
   "execution_count": 86,
   "metadata": {
    "id": "MHJHJZlzRruY"
   },
   "outputs": [],
   "source": [
    "valid_vs_pred = pd.concat([df_valid,predictions],axis=1)"
   ]
  },
  {
   "cell_type": "markdown",
   "metadata": {
    "id": "feEuehK_qYbD"
   },
   "source": [
    " ### Plotting the actual and  forecasted values"
   ]
  },
  {
   "cell_type": "code",
   "execution_count": 87,
   "metadata": {
    "colab": {
     "base_uri": "https://localhost:8080/",
     "height": 372
    },
    "id": "MlZ9DIhFR6MR",
    "outputId": "b03f2839-a2f0-42af-e54f-c77171d50d55"
   },
   "outputs": [
    {
     "data": {
      "text/plain": [
       "<AxesSubplot:>"
      ]
     },
     "execution_count": 87,
     "metadata": {},
     "output_type": "execute_result"
    },
    {
     "data": {
      "image/png": "[encoded data removed]",
      "text/plain": [
       "<Figure size 864x360 with 1 Axes>"
      ]
     },
     "metadata": {
      "needs_background": "light"
     },
     "output_type": "display_data"
    }
   ],
   "source": [
    "valid_vs_pred.plot(figsize=(12,5))"
   ]
  },
  {
   "cell_type": "markdown",
   "metadata": {
    "id": "t_3T_tuzqocK"
   },
   "source": [
    "### Plotting the actual and forecasted values for yield"
   ]
  },
  {
   "cell_type": "code",
   "execution_count": 88,
   "metadata": {
    "id": "Z96mKfeKSCtc"
   },
   "outputs": [],
   "source": [
    "valid_vs_pred_1= pd.concat([df_valid['yield first difference'],predictions['yield_predicted']],axis=1)"
   ]
  },
  {
   "cell_type": "code",
   "execution_count": 89,
   "metadata": {
    "colab": {
     "base_uri": "https://localhost:8080/",
     "height": 372
    },
    "id": "lLDZyXCWWhzm",
    "outputId": "b38dfbe5-aba2-4dbd-df96-9310601b5de2"
   },
   "outputs": [
    {
     "data": {
      "text/plain": [
       "<AxesSubplot:>"
      ]
     },
     "execution_count": 89,
     "metadata": {},
     "output_type": "execute_result"
    },
    {
     "data": {
      "image/png": "[encoded data removed]",
      "text/plain": [
       "<Figure size 864x360 with 1 Axes>"
      ]
     },
     "metadata": {
      "needs_background": "light"
     },
     "output_type": "display_data"
    }
   ],
   "source": [
    "valid_vs_pred_1.plot(figsize=(12,5))"
   ]
  },
  {
   "cell_type": "markdown",
   "metadata": {
    "id": "PDbQ0IMoq4LT"
   },
   "source": [
    "### Importing the metric Libraries"
   ]
  },
  {
   "cell_type": "code",
   "execution_count": 90,
   "metadata": {
    "id": "S79gaOdbWiK2"
   },
   "outputs": [],
   "source": [
    "from sklearn.metrics import mean_squared_error\n",
    "import math\n",
    "from statistics import mean"
   ]
  },
  {
   "cell_type": "markdown",
   "metadata": {
    "id": "uEWx8uDzqv_f"
   },
   "source": [
    "### Evaluating the model using RMSE"
   ]
  },
  {
   "cell_type": "code",
   "execution_count": 92,
   "metadata": {
    "colab": {
     "base_uri": "https://localhost:8080/"
    },
    "id": "fkaZ9EYBWiSd",
    "outputId": "eaec8fbc-49b7-48e1-e2d8-d0f9d01f61c1"
   },
   "outputs": [
    {
     "name": "stdout",
     "output_type": "stream",
     "text": [
      "14.083787894559332\n"
     ]
    }
   ],
   "source": [
    "rmse_yield = math.sqrt(mean_squared_error(predictions['yield_predicted'],df_valid['yield first difference']))\n",
    "print(rmse_yield)"
   ]
  },
  {
   "cell_type": "code",
   "execution_count": null,
   "metadata": {
    "id": "31SnrOpEXWJ6"
   },
   "outputs": [],
   "source": []
  },
  {
   "cell_type": "code",
   "execution_count": null,
   "metadata": {
    "id": "KilWp25TXVJ1"
   },
   "outputs": [],
   "source": []
  }
 ],
 "metadata": {
  "colab": {
   "provenance": []
  },
  "kernelspec": {
   "display_name": "Python 3",
   "language": "python",
   "name": "python3"
  },
  "language_info": {
   "codemirror_mode": {
    "name": "ipython",
    "version": 3
   },
   "file_extension": ".py",
   "mimetype": "text/x-python",
   "name": "python",
   "nbconvert_exporter": "python",
   "pygments_lexer": "ipython3",
   "version": "3.6.5"
  }
 },
 "nbformat": 4,
 "nbformat_minor": 1
}
